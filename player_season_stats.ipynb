{
  "nbformat": 4,
  "nbformat_minor": 0,
  "metadata": {
    "colab": {
      "name": "player_season_stats.ipynb",
      "version": "0.3.2",
      "provenance": [],
      "collapsed_sections": []
    },
    "kernelspec": {
      "name": "python3",
      "display_name": "Python 3"
    },
    "accelerator": "TPU"
  },
  "cells": [
    {
      "metadata": {
        "id": "aXPiz5SX7UKf",
        "colab_type": "code",
        "colab": {
          "base_uri": "https://localhost:8080/",
          "height": 712
        },
        "outputId": "82357028-5e16-42bb-8f2c-c53a34ee511b"
      },
      "cell_type": "code",
      "source": [
        "!pip install tensorflow==1.6"
      ],
      "execution_count": 1,
      "outputs": [
        {
          "output_type": "stream",
          "text": [
            "Collecting tensorflow==1.6\n",
            "\u001b[?25l  Downloading https://files.pythonhosted.org/packages/d9/0f/fbd8bb92459c75db93040f80702ebe4ba83a52cdb6ad930654c31dc0b711/tensorflow-1.6.0-cp36-cp36m-manylinux1_x86_64.whl (45.8MB)\n",
            "\u001b[K    100% |████████████████████████████████| 45.9MB 741kB/s \n",
            "\u001b[?25hRequirement already satisfied: grpcio>=1.8.6 in /usr/local/lib/python3.6/dist-packages (from tensorflow==1.6) (1.15.0)\n",
            "Requirement already satisfied: wheel>=0.26 in /usr/local/lib/python3.6/dist-packages (from tensorflow==1.6) (0.32.2)\n",
            "Requirement already satisfied: protobuf>=3.4.0 in /usr/local/lib/python3.6/dist-packages (from tensorflow==1.6) (3.6.1)\n",
            "Requirement already satisfied: astor>=0.6.0 in /usr/local/lib/python3.6/dist-packages (from tensorflow==1.6) (0.7.1)\n",
            "Requirement already satisfied: numpy>=1.13.3 in /usr/local/lib/python3.6/dist-packages (from tensorflow==1.6) (1.14.6)\n",
            "Requirement already satisfied: gast>=0.2.0 in /usr/local/lib/python3.6/dist-packages (from tensorflow==1.6) (0.2.0)\n",
            "Requirement already satisfied: termcolor>=1.1.0 in /usr/local/lib/python3.6/dist-packages (from tensorflow==1.6) (1.1.0)\n",
            "Requirement already satisfied: absl-py>=0.1.6 in /usr/local/lib/python3.6/dist-packages (from tensorflow==1.6) (0.6.1)\n",
            "Collecting tensorboard<1.7.0,>=1.6.0 (from tensorflow==1.6)\n",
            "\u001b[?25l  Downloading https://files.pythonhosted.org/packages/b0/67/a8c91665987d359211dcdca5c8b2a7c1e0876eb0702a4383c1e4ff76228d/tensorboard-1.6.0-py3-none-any.whl (3.0MB)\n",
            "\u001b[K    100% |████████████████████████████████| 3.1MB 10.9MB/s \n",
            "\u001b[?25hRequirement already satisfied: six>=1.10.0 in /usr/local/lib/python3.6/dist-packages (from tensorflow==1.6) (1.11.0)\n",
            "Requirement already satisfied: setuptools in /usr/local/lib/python3.6/dist-packages (from protobuf>=3.4.0->tensorflow==1.6) (40.5.0)\n",
            "Collecting html5lib==0.9999999 (from tensorboard<1.7.0,>=1.6.0->tensorflow==1.6)\n",
            "\u001b[?25l  Downloading https://files.pythonhosted.org/packages/ae/ae/bcb60402c60932b32dfaf19bb53870b29eda2cd17551ba5639219fb5ebf9/html5lib-0.9999999.tar.gz (889kB)\n",
            "\u001b[K    100% |████████████████████████████████| 890kB 11.8MB/s \n",
            "\u001b[?25hRequirement already satisfied: werkzeug>=0.11.10 in /usr/local/lib/python3.6/dist-packages (from tensorboard<1.7.0,>=1.6.0->tensorflow==1.6) (0.14.1)\n",
            "Collecting bleach==1.5.0 (from tensorboard<1.7.0,>=1.6.0->tensorflow==1.6)\n",
            "  Downloading https://files.pythonhosted.org/packages/33/70/86c5fec937ea4964184d4d6c4f0b9551564f821e1c3575907639036d9b90/bleach-1.5.0-py2.py3-none-any.whl\n",
            "Requirement already satisfied: markdown>=2.6.8 in /usr/local/lib/python3.6/dist-packages (from tensorboard<1.7.0,>=1.6.0->tensorflow==1.6) (3.0.1)\n",
            "Building wheels for collected packages: html5lib\n",
            "  Running setup.py bdist_wheel for html5lib ... \u001b[?25l-\b \b\\\b \bdone\n",
            "\u001b[?25h  Stored in directory: /root/.cache/pip/wheels/50/ae/f9/d2b189788efcf61d1ee0e36045476735c838898eef1cad6e29\n",
            "Successfully built html5lib\n",
            "Installing collected packages: html5lib, bleach, tensorboard, tensorflow\n",
            "  Found existing installation: bleach 3.0.2\n",
            "    Uninstalling bleach-3.0.2:\n",
            "      Successfully uninstalled bleach-3.0.2\n",
            "  Found existing installation: tensorboard 1.12.0\n",
            "    Uninstalling tensorboard-1.12.0:\n",
            "      Successfully uninstalled tensorboard-1.12.0\n",
            "  Found existing installation: tensorflow 1.12.0\n",
            "    Uninstalling tensorflow-1.12.0:\n",
            "      Successfully uninstalled tensorflow-1.12.0\n",
            "Successfully installed bleach-1.5.0 html5lib-0.9999999 tensorboard-1.6.0 tensorflow-1.6.0\n"
          ],
          "name": "stdout"
        }
      ]
    },
    {
      "metadata": {
        "id": "F0Yvvyzia3mR",
        "colab_type": "code",
        "colab": {
          "base_uri": "https://localhost:8080/",
          "height": 212
        },
        "outputId": "ecfd778f-5e79-4029-bd2c-3340c207ac40"
      },
      "cell_type": "code",
      "source": [
        "!pip install edward"
      ],
      "execution_count": 2,
      "outputs": [
        {
          "output_type": "stream",
          "text": [
            "Collecting edward\n",
            "\u001b[?25l  Downloading https://files.pythonhosted.org/packages/a3/59/5831fa77a01a7b16d53626966b06e89064b1696166d74e856ef3eefb3119/edward-1.3.5.tar.gz (63kB)\n",
            "\r\u001b[K    16% |█████▏                          | 10kB 17.1MB/s eta 0:00:01\r\u001b[K    32% |██████████▍                     | 20kB 5.2MB/s eta 0:00:01\r\u001b[K    48% |███████████████▋                | 30kB 5.5MB/s eta 0:00:01\r\u001b[K    64% |████████████████████▊           | 40kB 5.5MB/s eta 0:00:01\r\u001b[K    81% |██████████████████████████      | 51kB 6.1MB/s eta 0:00:01\r\u001b[K    97% |███████████████████████████████▏| 61kB 7.1MB/s eta 0:00:01\r\u001b[K    100% |████████████████████████████████| 71kB 6.6MB/s \n",
            "\u001b[?25hRequirement already satisfied: numpy>=1.7 in /usr/local/lib/python3.6/dist-packages (from edward) (1.14.6)\n",
            "Requirement already satisfied: six>=1.10.0 in /usr/local/lib/python3.6/dist-packages (from edward) (1.11.0)\n",
            "Building wheels for collected packages: edward\n",
            "  Running setup.py bdist_wheel for edward ... \u001b[?25l-\b \b\\\b \bdone\n",
            "\u001b[?25h  Stored in directory: /root/.cache/pip/wheels/ae/61/0c/1f36f3f0c629d1b7a24d042d2c37015a66c091729c95dd8425\n",
            "Successfully built edward\n",
            "Installing collected packages: edward\n",
            "Successfully installed edward-1.3.5\n"
          ],
          "name": "stdout"
        }
      ]
    },
    {
      "metadata": {
        "id": "2SLlQYtBoQTu",
        "colab_type": "code",
        "colab": {}
      },
      "cell_type": "code",
      "source": [
        "from google.colab import auth\n",
        "auth.authenticate_user()"
      ],
      "execution_count": 0,
      "outputs": []
    },
    {
      "metadata": {
        "id": "0qKeukvYcbCz",
        "colab_type": "code",
        "colab": {
          "base_uri": "https://localhost:8080/",
          "height": 283
        },
        "outputId": "c71e8418-ee24-454c-9ce6-977c16c77f45"
      },
      "cell_type": "code",
      "source": [
        "# Install a Drive FUSE wrapper.\n",
        "# https://github.com/astrada/google-drive-ocamlfuse\n",
        "!apt-get install -y -qq software-properties-common python-software-properties module-init-tools\n",
        "!add-apt-repository -y ppa:alessandro-strada/ppa 2>&1 > /dev/null\n",
        "!apt-get update -qq 2>&1 > /dev/null\n",
        "!apt-get -y install -qq google-drive-ocamlfuse fuse"
      ],
      "execution_count": 6,
      "outputs": [
        {
          "output_type": "stream",
          "text": [
            "E: Package 'python-software-properties' has no installation candidate\n",
            "Selecting previously unselected package libfuse2:amd64.\n",
            "(Reading database ... 22280 files and directories currently installed.)\n",
            "Preparing to unpack .../libfuse2_2.9.7-1ubuntu1_amd64.deb ...\n",
            "Unpacking libfuse2:amd64 (2.9.7-1ubuntu1) ...\n",
            "Selecting previously unselected package fuse.\n",
            "Preparing to unpack .../fuse_2.9.7-1ubuntu1_amd64.deb ...\n",
            "Unpacking fuse (2.9.7-1ubuntu1) ...\n",
            "Selecting previously unselected package google-drive-ocamlfuse.\n",
            "Preparing to unpack .../google-drive-ocamlfuse_0.7.0-0ubuntu1~ubuntu18.04.1_amd64.deb ...\n",
            "Unpacking google-drive-ocamlfuse (0.7.0-0ubuntu1~ubuntu18.04.1) ...\n",
            "Setting up libfuse2:amd64 (2.9.7-1ubuntu1) ...\n",
            "Processing triggers for libc-bin (2.27-3ubuntu1) ...\n",
            "Setting up fuse (2.9.7-1ubuntu1) ...\n",
            "Setting up google-drive-ocamlfuse (0.7.0-0ubuntu1~ubuntu18.04.1) ...\n"
          ],
          "name": "stdout"
        }
      ]
    },
    {
      "metadata": {
        "id": "wQ1DNxYlb2Gs",
        "colab_type": "code",
        "colab": {
          "base_uri": "https://localhost:8080/",
          "height": 107
        },
        "outputId": "efcfaf4c-e631-4a0e-8a90-36ce678331a7"
      },
      "cell_type": "code",
      "source": [
        "# Generate creds for the Drive FUSE library.\n",
        "from oauth2client.client import GoogleCredentials\n",
        "creds = GoogleCredentials.get_application_default()\n",
        "import getpass\n",
        "!google-drive-ocamlfuse -headless -id={creds.client_id} -secret={creds.client_secret} < /dev/null 2>&1 | grep URL\n",
        "vcode = getpass.getpass()\n",
        "!echo {vcode} | google-drive-ocamlfuse -headless -id={creds.client_id} -secret={creds.client_secret}\n",
        "\n",
        "# Create a directory and mount Google Drive using that directory.\n",
        "!mkdir -p drive\n",
        "!google-drive-ocamlfuse drive"
      ],
      "execution_count": 7,
      "outputs": [
        {
          "output_type": "stream",
          "text": [
            "Please, open the following URL in a web browser: https://accounts.google.com/o/oauth2/auth?client_id=32555940559.apps.googleusercontent.com&redirect_uri=urn%3Aietf%3Awg%3Aoauth%3A2.0%3Aoob&scope=https%3A%2F%2Fwww.googleapis.com%2Fauth%2Fdrive&response_type=code&access_type=offline&approval_prompt=force\n",
            "··········\n",
            "Please, open the following URL in a web browser: https://accounts.google.com/o/oauth2/auth?client_id=32555940559.apps.googleusercontent.com&redirect_uri=urn%3Aietf%3Awg%3Aoauth%3A2.0%3Aoob&scope=https%3A%2F%2Fwww.googleapis.com%2Fauth%2Fdrive&response_type=code&access_type=offline&approval_prompt=force\n",
            "Please enter the verification code: Access token retrieved correctly.\n"
          ],
          "name": "stdout"
        }
      ]
    },
    {
      "metadata": {
        "id": "niMItPvIYBqN",
        "colab_type": "text"
      },
      "cell_type": "markdown",
      "source": [
        "# First Run (raw data, no scaling)"
      ]
    },
    {
      "metadata": {
        "id": "x7KJeq4pYFj1",
        "colab_type": "code",
        "colab": {}
      },
      "cell_type": "code",
      "source": [
        "import edward as ed\n",
        "import pandas as pd\n",
        "import numpy as np\n",
        "import tensorflow as tf"
      ],
      "execution_count": 0,
      "outputs": []
    },
    {
      "metadata": {
        "id": "QMJxLBCkYZ78",
        "colab_type": "code",
        "colab": {}
      },
      "cell_type": "code",
      "source": [
        "csv = pd.read_csv('drive/player_season_stats.csv', index_col = 0)\n",
        "csv = csv[csv.Year>=2011]\n",
        "csv = csv.fillna(csv.mean())\n",
        "count_columns = [col for col in csv.columns if not (('%' in col) or (col in ['PER', 'Age', 'OWS', 'DWS', 'WS', 'WS/48', 'BPM', 'VORP', '3PAr', 'FTr']))]\n",
        "count_csv = csv[count_columns]\n",
        "total_csv = csv.drop_duplicates(subset = ['Year', 'Player'], keep='first')[count_columns]"
      ],
      "execution_count": 0,
      "outputs": []
    },
    {
      "metadata": {
        "id": "hBjY0-VeYcZw",
        "colab_type": "code",
        "colab": {}
      },
      "cell_type": "code",
      "source": [
        "x_train = np.array(total_csv.drop(['Year', 'Player', 'Pos', 'Tm', 'MP'], axis=1))\n",
        "N = x_train.shape[0]\n",
        "D = x_train.shape[1]\n",
        "K = 5"
      ],
      "execution_count": 0,
      "outputs": []
    },
    {
      "metadata": {
        "id": "NdUQQNAaY9uh",
        "colab_type": "code",
        "colab": {}
      },
      "cell_type": "code",
      "source": [
        "from edward.models import Dirichlet, InverseGamma, MultivariateNormalDiag, \\\n",
        "    Normal, ParamMixture, Empirical\n",
        "\n",
        "#tf.reset_default_graph()\n",
        "\n",
        "pi = Dirichlet(tf.ones(K))\n",
        "mu = Normal(tf.zeros(D), tf.ones(D), sample_shape=K)\n",
        "sigmasq = InverseGamma(tf.ones(D), tf.ones(D), sample_shape=K)\n",
        "x = ParamMixture(pi, {'loc': mu, 'scale_diag': tf.sqrt(sigmasq)},\n",
        "                 MultivariateNormalDiag,\n",
        "                 sample_shape=N)\n",
        "z = x.cat"
      ],
      "execution_count": 0,
      "outputs": []
    },
    {
      "metadata": {
        "id": "PaJsxq3qY_P9",
        "colab_type": "code",
        "colab": {
          "base_uri": "https://localhost:8080/",
          "height": 1005
        },
        "outputId": "8488eac8-9b46-4bab-9c91-5760a4eea032"
      },
      "cell_type": "code",
      "source": [
        "T = 500  # number of MCMC samples\n",
        "\n",
        "qpi = Empirical(tf.get_variable(\n",
        "    \"qpi/params\", [T, K],\n",
        "    initializer=tf.constant_initializer(1.0 / K)))\n",
        "qmu = Empirical(tf.get_variable(\n",
        "    \"qmu/params\", [T, K, D],\n",
        "    initializer=tf.zeros_initializer()))\n",
        "qsigmasq = Empirical(tf.get_variable(\n",
        "    \"qsigmasq/params\", [T, K, D],\n",
        "    initializer=tf.ones_initializer()))\n",
        "qz = Empirical(tf.get_variable(\n",
        "    \"qz/params\", [T, N],\n",
        "    initializer=tf.zeros_initializer(),\n",
        "    dtype=tf.int32))"
      ],
      "execution_count": 16,
      "outputs": [
        {
          "output_type": "error",
          "ename": "ValueError",
          "evalue": "ignored",
          "traceback": [
            "\u001b[0;31m---------------------------------------------------------------------------\u001b[0m",
            "\u001b[0;31mValueError\u001b[0m                                Traceback (most recent call last)",
            "\u001b[0;32m<ipython-input-16-7968c8d8a025>\u001b[0m in \u001b[0;36m<module>\u001b[0;34m()\u001b[0m\n\u001b[1;32m      3\u001b[0m qpi = Empirical(tf.get_variable(\n\u001b[1;32m      4\u001b[0m     \u001b[0;34m\"qpi/params\"\u001b[0m\u001b[0;34m,\u001b[0m \u001b[0;34m[\u001b[0m\u001b[0mT\u001b[0m\u001b[0;34m,\u001b[0m \u001b[0mK\u001b[0m\u001b[0;34m]\u001b[0m\u001b[0;34m,\u001b[0m\u001b[0;34m\u001b[0m\u001b[0m\n\u001b[0;32m----> 5\u001b[0;31m     initializer=tf.constant_initializer(1.0 / K)))\n\u001b[0m\u001b[1;32m      6\u001b[0m qmu = Empirical(tf.get_variable(\n\u001b[1;32m      7\u001b[0m     \u001b[0;34m\"qmu/params\"\u001b[0m\u001b[0;34m,\u001b[0m \u001b[0;34m[\u001b[0m\u001b[0mT\u001b[0m\u001b[0;34m,\u001b[0m \u001b[0mK\u001b[0m\u001b[0;34m,\u001b[0m \u001b[0mD\u001b[0m\u001b[0;34m]\u001b[0m\u001b[0;34m,\u001b[0m\u001b[0;34m\u001b[0m\u001b[0m\n",
            "\u001b[0;32m/usr/local/lib/python3.6/dist-packages/tensorflow/python/ops/variable_scope.py\u001b[0m in \u001b[0;36mget_variable\u001b[0;34m(name, shape, dtype, initializer, regularizer, trainable, collections, caching_device, partitioner, validate_shape, use_resource, custom_getter, constraint)\u001b[0m\n\u001b[1;32m   1295\u001b[0m       \u001b[0mpartitioner\u001b[0m\u001b[0;34m=\u001b[0m\u001b[0mpartitioner\u001b[0m\u001b[0;34m,\u001b[0m \u001b[0mvalidate_shape\u001b[0m\u001b[0;34m=\u001b[0m\u001b[0mvalidate_shape\u001b[0m\u001b[0;34m,\u001b[0m\u001b[0;34m\u001b[0m\u001b[0m\n\u001b[1;32m   1296\u001b[0m       \u001b[0muse_resource\u001b[0m\u001b[0;34m=\u001b[0m\u001b[0muse_resource\u001b[0m\u001b[0;34m,\u001b[0m \u001b[0mcustom_getter\u001b[0m\u001b[0;34m=\u001b[0m\u001b[0mcustom_getter\u001b[0m\u001b[0;34m,\u001b[0m\u001b[0;34m\u001b[0m\u001b[0m\n\u001b[0;32m-> 1297\u001b[0;31m       constraint=constraint)\n\u001b[0m\u001b[1;32m   1298\u001b[0m get_variable_or_local_docstring = (\n\u001b[1;32m   1299\u001b[0m     \"\"\"%s\n",
            "\u001b[0;32m/usr/local/lib/python3.6/dist-packages/tensorflow/python/ops/variable_scope.py\u001b[0m in \u001b[0;36mget_variable\u001b[0;34m(self, var_store, name, shape, dtype, initializer, regularizer, reuse, trainable, collections, caching_device, partitioner, validate_shape, use_resource, custom_getter, constraint)\u001b[0m\n\u001b[1;32m   1091\u001b[0m           \u001b[0mpartitioner\u001b[0m\u001b[0;34m=\u001b[0m\u001b[0mpartitioner\u001b[0m\u001b[0;34m,\u001b[0m \u001b[0mvalidate_shape\u001b[0m\u001b[0;34m=\u001b[0m\u001b[0mvalidate_shape\u001b[0m\u001b[0;34m,\u001b[0m\u001b[0;34m\u001b[0m\u001b[0m\n\u001b[1;32m   1092\u001b[0m           \u001b[0muse_resource\u001b[0m\u001b[0;34m=\u001b[0m\u001b[0muse_resource\u001b[0m\u001b[0;34m,\u001b[0m \u001b[0mcustom_getter\u001b[0m\u001b[0;34m=\u001b[0m\u001b[0mcustom_getter\u001b[0m\u001b[0;34m,\u001b[0m\u001b[0;34m\u001b[0m\u001b[0m\n\u001b[0;32m-> 1093\u001b[0;31m           constraint=constraint)\n\u001b[0m\u001b[1;32m   1094\u001b[0m \u001b[0;34m\u001b[0m\u001b[0m\n\u001b[1;32m   1095\u001b[0m   def _get_partitioned_variable(self,\n",
            "\u001b[0;32m/usr/local/lib/python3.6/dist-packages/tensorflow/python/ops/variable_scope.py\u001b[0m in \u001b[0;36mget_variable\u001b[0;34m(self, name, shape, dtype, initializer, regularizer, reuse, trainable, collections, caching_device, partitioner, validate_shape, use_resource, custom_getter, constraint)\u001b[0m\n\u001b[1;32m    437\u001b[0m           \u001b[0mcaching_device\u001b[0m\u001b[0;34m=\u001b[0m\u001b[0mcaching_device\u001b[0m\u001b[0;34m,\u001b[0m \u001b[0mpartitioner\u001b[0m\u001b[0;34m=\u001b[0m\u001b[0mpartitioner\u001b[0m\u001b[0;34m,\u001b[0m\u001b[0;34m\u001b[0m\u001b[0m\n\u001b[1;32m    438\u001b[0m           \u001b[0mvalidate_shape\u001b[0m\u001b[0;34m=\u001b[0m\u001b[0mvalidate_shape\u001b[0m\u001b[0;34m,\u001b[0m \u001b[0muse_resource\u001b[0m\u001b[0;34m=\u001b[0m\u001b[0muse_resource\u001b[0m\u001b[0;34m,\u001b[0m\u001b[0;34m\u001b[0m\u001b[0m\n\u001b[0;32m--> 439\u001b[0;31m           constraint=constraint)\n\u001b[0m\u001b[1;32m    440\u001b[0m \u001b[0;34m\u001b[0m\u001b[0m\n\u001b[1;32m    441\u001b[0m   def _get_partitioned_variable(\n",
            "\u001b[0;32m/usr/local/lib/python3.6/dist-packages/tensorflow/python/ops/variable_scope.py\u001b[0m in \u001b[0;36m_true_getter\u001b[0;34m(name, shape, dtype, initializer, regularizer, reuse, trainable, collections, caching_device, partitioner, validate_shape, use_resource, constraint)\u001b[0m\n\u001b[1;32m    406\u001b[0m           \u001b[0mtrainable\u001b[0m\u001b[0;34m=\u001b[0m\u001b[0mtrainable\u001b[0m\u001b[0;34m,\u001b[0m \u001b[0mcollections\u001b[0m\u001b[0;34m=\u001b[0m\u001b[0mcollections\u001b[0m\u001b[0;34m,\u001b[0m\u001b[0;34m\u001b[0m\u001b[0m\n\u001b[1;32m    407\u001b[0m           \u001b[0mcaching_device\u001b[0m\u001b[0;34m=\u001b[0m\u001b[0mcaching_device\u001b[0m\u001b[0;34m,\u001b[0m \u001b[0mvalidate_shape\u001b[0m\u001b[0;34m=\u001b[0m\u001b[0mvalidate_shape\u001b[0m\u001b[0;34m,\u001b[0m\u001b[0;34m\u001b[0m\u001b[0m\n\u001b[0;32m--> 408\u001b[0;31m           use_resource=use_resource, constraint=constraint)\n\u001b[0m\u001b[1;32m    409\u001b[0m \u001b[0;34m\u001b[0m\u001b[0m\n\u001b[1;32m    410\u001b[0m     \u001b[0;32mif\u001b[0m \u001b[0mcustom_getter\u001b[0m \u001b[0;32mis\u001b[0m \u001b[0;32mnot\u001b[0m \u001b[0;32mNone\u001b[0m\u001b[0;34m:\u001b[0m\u001b[0;34m\u001b[0m\u001b[0m\n",
            "\u001b[0;32m/usr/local/lib/python3.6/dist-packages/tensorflow/python/ops/variable_scope.py\u001b[0m in \u001b[0;36m_get_single_variable\u001b[0;34m(self, name, shape, dtype, initializer, regularizer, partition_info, reuse, trainable, collections, caching_device, validate_shape, use_resource, constraint)\u001b[0m\n\u001b[1;32m    745\u001b[0m                          \u001b[0;34m\"reuse=tf.AUTO_REUSE in VarScope? \"\u001b[0m\u001b[0;34m\u001b[0m\u001b[0m\n\u001b[1;32m    746\u001b[0m                          \"Originally defined at:\\n\\n%s\" % (\n\u001b[0;32m--> 747\u001b[0;31m                              name, \"\".join(traceback.format_list(tb))))\n\u001b[0m\u001b[1;32m    748\u001b[0m       \u001b[0mfound_var\u001b[0m \u001b[0;34m=\u001b[0m \u001b[0mself\u001b[0m\u001b[0;34m.\u001b[0m\u001b[0m_vars\u001b[0m\u001b[0;34m[\u001b[0m\u001b[0mname\u001b[0m\u001b[0;34m]\u001b[0m\u001b[0;34m\u001b[0m\u001b[0m\n\u001b[1;32m    749\u001b[0m       \u001b[0;32mif\u001b[0m \u001b[0;32mnot\u001b[0m \u001b[0mshape\u001b[0m\u001b[0;34m.\u001b[0m\u001b[0mis_compatible_with\u001b[0m\u001b[0;34m(\u001b[0m\u001b[0mfound_var\u001b[0m\u001b[0;34m.\u001b[0m\u001b[0mget_shape\u001b[0m\u001b[0;34m(\u001b[0m\u001b[0;34m)\u001b[0m\u001b[0;34m)\u001b[0m\u001b[0;34m:\u001b[0m\u001b[0;34m\u001b[0m\u001b[0m\n",
            "\u001b[0;31mValueError\u001b[0m: Variable qpi/params already exists, disallowed. Did you mean to set reuse=True or reuse=tf.AUTO_REUSE in VarScope? Originally defined at:\n\n  File \"<ipython-input-12-7968c8d8a025>\", line 5, in <module>\n    initializer=tf.constant_initializer(1.0 / K)))\n  File \"/usr/local/lib/python3.6/dist-packages/IPython/core/interactiveshell.py\", line 2882, in run_code\n    exec(code_obj, self.user_global_ns, self.user_ns)\n  File \"/usr/local/lib/python3.6/dist-packages/IPython/core/interactiveshell.py\", line 2822, in run_ast_nodes\n    if self.run_code(code, result):\n"
          ]
        }
      ]
    },
    {
      "metadata": {
        "colab_type": "code",
        "outputId": "ad1ff70d-f4d4-4d96-946c-45d4af966dbb",
        "id": "eZf0jvJ_ZOWC",
        "colab": {
          "base_uri": "https://localhost:8080/",
          "height": 90
        }
      },
      "cell_type": "code",
      "source": [
        "inference = ed.Gibbs({pi: qpi, mu: qmu, sigmasq: qsigmasq, z: qz},\n",
        "                     data={x: x_train})\n",
        "inference.initialize()\n",
        "\n",
        "sess = ed.get_session()\n",
        "tf.global_variables_initializer().run()\n",
        "\n",
        "t_ph = tf.placeholder(tf.int32, [])\n",
        "running_cluster_means = tf.reduce_mean(qmu.params[:t_ph], 0)\n",
        "\n",
        "for _ in range(inference.n_iter):\n",
        "  info_dict = inference.update()\n",
        "  inference.print_progress(info_dict)\n",
        "  t = info_dict['t']\n",
        "  #if t % inference.n_print == 0:\n",
        "  #  print(\"\\nInferred cluster means:\")\n",
        "  #  print(sess.run(running_cluster_means, {t_ph: t - 1}))"
      ],
      "execution_count": 17,
      "outputs": [
        {
          "output_type": "stream",
          "text": [
            "/usr/local/lib/python3.6/dist-packages/edward/util/random_variables.py:52: FutureWarning: Conversion of the second argument of issubdtype from `float` to `np.floating` is deprecated. In future, it will be treated as `np.float64 == np.dtype(float).type`.\n",
            "  not np.issubdtype(value.dtype, np.float) and \\\n"
          ],
          "name": "stderr"
        },
        {
          "output_type": "stream",
          "text": [
            "500/500 [100%] ██████████████████████████████ Elapsed: 206s | Acceptance Rate: 1.000\n"
          ],
          "name": "stdout"
        }
      ]
    },
    {
      "metadata": {
        "colab_type": "code",
        "id": "iZBgInLqZOWX",
        "colab": {}
      },
      "cell_type": "code",
      "source": [
        "cluster_means = sess.run(running_cluster_means, {t_ph: t - 1})"
      ],
      "execution_count": 0,
      "outputs": []
    },
    {
      "metadata": {
        "colab_type": "code",
        "outputId": "a079d546-69e5-4c9d-bf58-94a01c6d443c",
        "id": "5ic9eFw2ZOWm",
        "colab": {
          "base_uri": "https://localhost:8080/",
          "height": 364
        }
      },
      "cell_type": "code",
      "source": [
        "import matplotlib.pyplot as plt\n",
        "from sklearn.decomposition import PCA\n",
        "\n",
        "pca_model = PCA(n_components=2)\n",
        "stats_transformed = pca_model.fit_transform(cluster_means)\n",
        "plt.scatter(stats_transformed[:,0], stats_transformed[:, 1])"
      ],
      "execution_count": 19,
      "outputs": [
        {
          "output_type": "execute_result",
          "data": {
            "text/plain": [
              "<matplotlib.collections.PathCollection at 0x7f13d0ee4128>"
            ]
          },
          "metadata": {
            "tags": []
          },
          "execution_count": 19
        },
        {
          "output_type": "display_data",
          "data": {
            "image/png": "[encoded data removed]",
            "text/plain": [
              "<matplotlib.figure.Figure at 0x7f13d7c28d30>"
            ]
          },
          "metadata": {
            "tags": []
          }
        }
      ]
    },
    {
      "metadata": {
        "colab_type": "code",
        "id": "8y7T-tjXZOWv",
        "colab": {}
      },
      "cell_type": "code",
      "source": [
        "# Calculate likelihood for each data point and cluster assignment,\n",
        "# averaged over many posterior samples. ``x_post`` has shape (N, 100, K, D).\n",
        "mu_sample = qmu.sample(100)\n",
        "sigmasq_sample = qsigmasq.sample(100)\n",
        "x_post = Normal(loc=tf.cast(tf.ones([N, 1, 1, 1]) * mu_sample, tf.float64),\n",
        "                scale=tf.cast(tf.ones([N, 1, 1, 1]) * tf.sqrt(sigmasq_sample), tf.float64))\n",
        "x_broadcasted = tf.tile(tf.reshape(x_train, [N, 1, 1, D]), [1, 100, K, 1])\n",
        "\n",
        "# Sum over latent dimension, then average over posterior samples.\n",
        "# ``log_liks`` ends up with shape (N, K).\n",
        "log_liks = x_post.log_prob(x_broadcasted)\n",
        "log_liks = tf.reduce_sum(log_liks, 3)\n",
        "log_liks = tf.reduce_mean(log_liks, 1)\n",
        "#print(log_liks.shape)\n",
        "#log_liks.eval()[:10]"
      ],
      "execution_count": 0,
      "outputs": []
    },
    {
      "metadata": {
        "colab_type": "code",
        "outputId": "a572a410-4bff-4a7c-d9c3-9e2b0f804c86",
        "id": "jg-IBw6pZOW3",
        "colab": {
          "base_uri": "https://localhost:8080/",
          "height": 364
        }
      },
      "cell_type": "code",
      "source": [
        "log_ll_values = sess.run(log_liks)\n",
        "\n",
        "log_ll_values_2d = PCA(n_components=2).fit_transform(log_ll_values)\n",
        "plt.scatter(log_ll_values_2d[:,0], log_ll_values_2d[:, 1])"
      ],
      "execution_count": 21,
      "outputs": [
        {
          "output_type": "execute_result",
          "data": {
            "text/plain": [
              "<matplotlib.collections.PathCollection at 0x7f13ce27ae48>"
            ]
          },
          "metadata": {
            "tags": []
          },
          "execution_count": 21
        },
        {
          "output_type": "display_data",
          "data": {
            "image/png": "[encoded data removed]",
            "text/plain": [
              "<matplotlib.figure.Figure at 0x7f13ce46b438>"
            ]
          },
          "metadata": {
            "tags": []
          }
        }
      ]
    },
    {
      "metadata": {
        "colab_type": "code",
        "outputId": "7d769f95-9445-4dc8-fd8a-908ce5851da8",
        "id": "Vr-9SnswZOXC",
        "colab": {
          "base_uri": "https://localhost:8080/",
          "height": 34
        }
      },
      "cell_type": "code",
      "source": [
        "from collections import Counter\n",
        "\n",
        "clusters = tf.argmax(log_liks, 1).eval()\n",
        "\n",
        "counts = Counter(clusters)\n",
        "counts.most_common(5)"
      ],
      "execution_count": 22,
      "outputs": [
        {
          "output_type": "execute_result",
          "data": {
            "text/plain": [
              "[(0, 1968), (1, 899), (2, 206), (3, 134), (4, 126)]"
            ]
          },
          "metadata": {
            "tags": []
          },
          "execution_count": 22
        }
      ]
    },
    {
      "metadata": {
        "colab_type": "code",
        "outputId": "a3b5d399-a2cb-4631-c18d-ad5ebd85b02d",
        "id": "F_4jHCyzcUeg",
        "colab": {
          "base_uri": "https://localhost:8080/",
          "height": 476
        }
      },
      "cell_type": "code",
      "source": [
        "positions = total_csv['Pos'].tolist()\n",
        "pos_clusters = pd.DataFrame(list(zip(positions, clusters)), columns=['Pos', 'Cluster'])\n",
        "pos_clusters = pos_clusters[pos_clusters['Pos'].isin(['C', 'PF', 'PG', 'SF', 'SG'])]\n",
        "print(pos_clusters.groupby(['Pos', 'Cluster']).size())\n"
      ],
      "execution_count": 23,
      "outputs": [
        {
          "output_type": "stream",
          "text": [
            "Pos  Cluster\n",
            "C    0          383\n",
            "     1          161\n",
            "     2           42\n",
            "     3           44\n",
            "     4           30\n",
            "PF   0          402\n",
            "     1          177\n",
            "     2           45\n",
            "     3           24\n",
            "     4           23\n",
            "PG   0          386\n",
            "     1          167\n",
            "     2           30\n",
            "     3           23\n",
            "     4           20\n",
            "SF   0          359\n",
            "     1          198\n",
            "     2           40\n",
            "     3           21\n",
            "     4           21\n",
            "SG   0          411\n",
            "     1          176\n",
            "     2           49\n",
            "     3           22\n",
            "     4           31\n",
            "dtype: int64\n"
          ],
          "name": "stdout"
        }
      ]
    },
    {
      "metadata": {
        "colab_type": "code",
        "outputId": "c665f94e-a223-4e03-9c7f-fd56d079706c",
        "id": "EFRuXx1acUev",
        "colab": {
          "base_uri": "https://localhost:8080/",
          "height": 456
        }
      },
      "cell_type": "code",
      "source": [
        "positions = ['C', 'PF', 'PG', 'SF', 'SG']\n",
        "clusters = list(range(5))\n",
        "\n",
        "pos_clusters_data = pos_clusters.groupby(['Pos', 'Cluster']).size().reshape([5, 5])\n",
        "\n",
        "\n",
        "fig, ax = plt.subplots()\n",
        "im = ax.imshow(pos_clusters_data, cmap = 'summer')\n",
        "\n",
        "# We want to show all ticks...\n",
        "ax.set_xticks(np.arange(len(positions)))\n",
        "ax.set_yticks(np.arange(len(clusters)))\n",
        "# ... and label them with the respective list entries\n",
        "ax.set_xticklabels(positions)\n",
        "ax.set_yticklabels(clusters)\n",
        "\n",
        "# Rotate the tick labels and set their alignment.\n",
        "plt.setp(ax.get_xticklabels(), rotation=45, ha=\"right\",\n",
        "         rotation_mode=\"anchor\")\n",
        "\n",
        "# Loop over data dimensions and create text annotations.\n",
        "for i in range(len(positions)):\n",
        "    for j in range(len(clusters)):\n",
        "        text = ax.text(j, i, pos_clusters_data[i, j],\n",
        "                       ha=\"center\", va=\"center\", color=\"black\")\n",
        "\n",
        "ax.set_title(\"Cluster Count by Player Position\")\n",
        "fig.tight_layout()\n",
        "plt.show()"
      ],
      "execution_count": 24,
      "outputs": [
        {
          "output_type": "stream",
          "text": [
            "/usr/local/lib/python3.6/dist-packages/ipykernel_launcher.py:4: FutureWarning: reshape is deprecated and will raise in a subsequent release. Please use .values.reshape(...) instead\n",
            "  after removing the cwd from sys.path.\n"
          ],
          "name": "stderr"
        },
        {
          "output_type": "display_data",
          "data": {
            "image/png": "[encoded data removed]",
            "text/plain": [
              "<matplotlib.figure.Figure at 0x7f13ce4456a0>"
            ]
          },
          "metadata": {
            "tags": []
          }
        }
      ]
    },
    {
      "metadata": {
        "id": "Ahssih0IaK1Q",
        "colab_type": "text"
      },
      "cell_type": "markdown",
      "source": [
        "#Second Run (scaling)"
      ]
    },
    {
      "metadata": {
        "colab_type": "code",
        "id": "uVEW3rZKaMfY",
        "colab": {}
      },
      "cell_type": "code",
      "source": [
        "import edward as ed\n",
        "import pandas as pd\n",
        "import numpy as np\n",
        "import tensorflow as tf\n",
        "from sklearn.preprocessing import StandardScaler"
      ],
      "execution_count": 0,
      "outputs": []
    },
    {
      "metadata": {
        "colab_type": "code",
        "id": "GrONE1XlaMfm",
        "colab": {}
      },
      "cell_type": "code",
      "source": [
        "csv = pd.read_csv('drive/player_season_stats.csv', index_col = 0)\n",
        "csv = csv[csv.Year>=2011]\n",
        "csv = csv.fillna(csv.mean())\n",
        "count_columns = [col for col in csv.columns if not (('%' in col) or (col in ['PER', 'Age', 'OWS', 'DWS', 'WS', 'WS/48', 'BPM', 'VORP', '3PAr', 'FTr']))]\n",
        "count_csv = csv[count_columns]\n",
        "total_csv = csv.drop_duplicates(subset = ['Year', 'Player'], keep='first')[count_columns]"
      ],
      "execution_count": 0,
      "outputs": []
    },
    {
      "metadata": {
        "colab_type": "code",
        "outputId": "3488fcfa-2690-4b50-ab00-2c139c773c25",
        "id": "RmIVi70zaMfr",
        "colab": {
          "base_uri": "https://localhost:8080/",
          "height": 34
        }
      },
      "cell_type": "code",
      "source": [
        "x_train = total_csv[total_csv['MP']!=0]\n",
        "\n",
        "# Standardizing variance across stats\n",
        "x_train = total_csv.drop(['Year', 'Player', 'Pos', 'Tm', 'MP'], axis=1)\n",
        "scaler = StandardScaler()\n",
        "x_train = scaler.fit_transform(x_train)\n",
        "print(x_train.shape)\n",
        "\n",
        "N = x_train.shape[0]\n",
        "D = x_train.shape[1]\n",
        "K = 5"
      ],
      "execution_count": 3,
      "outputs": [
        {
          "output_type": "stream",
          "text": [
            "(3333, 19)\n"
          ],
          "name": "stdout"
        }
      ]
    },
    {
      "metadata": {
        "colab_type": "code",
        "id": "k9NpivBhaMfy",
        "colab": {}
      },
      "cell_type": "code",
      "source": [
        "from edward.models import Dirichlet, InverseGamma, MultivariateNormalDiag, \\\n",
        "    Normal, ParamMixture, Empirical\n",
        "\n",
        "#tf.reset_default_graph()\n",
        "\n",
        "pi = Dirichlet(tf.ones(K))\n",
        "mu = Normal(tf.zeros(D), tf.ones(D), sample_shape=K)\n",
        "sigmasq = InverseGamma(tf.ones(D), tf.ones(D), sample_shape=K)\n",
        "x = ParamMixture(pi, {'loc': mu, 'scale_diag': tf.sqrt(sigmasq)},\n",
        "                 MultivariateNormalDiag,\n",
        "                 sample_shape=N)\n",
        "z = x.cat"
      ],
      "execution_count": 0,
      "outputs": []
    },
    {
      "metadata": {
        "colab_type": "code",
        "id": "tyZIxxSaaMf6",
        "colab": {}
      },
      "cell_type": "code",
      "source": [
        "T = 500  # number of MCMC samples\n",
        "\n",
        "qpi = Empirical(tf.get_variable(\n",
        "    \"qpi/params\", [T, K],\n",
        "    initializer=tf.constant_initializer(1.0 / K)))\n",
        "qmu = Empirical(tf.get_variable(\n",
        "    \"qmu/params\", [T, K, D],\n",
        "    initializer=tf.zeros_initializer()))\n",
        "qsigmasq = Empirical(tf.get_variable(\n",
        "    \"qsigmasq/params\", [T, K, D],\n",
        "    initializer=tf.ones_initializer()))\n",
        "qz = Empirical(tf.get_variable(\n",
        "    \"qz/params\", [T, N],\n",
        "    initializer=tf.zeros_initializer(),\n",
        "    dtype=tf.int32))"
      ],
      "execution_count": 0,
      "outputs": []
    },
    {
      "metadata": {
        "colab_type": "code",
        "outputId": "22bf4372-d9db-4dfa-a6f3-bf81d42e82a8",
        "id": "VJJWXs_xaMf_",
        "colab": {
          "base_uri": "https://localhost:8080/",
          "height": 90
        }
      },
      "cell_type": "code",
      "source": [
        "inference = ed.Gibbs({pi: qpi, mu: qmu, sigmasq: qsigmasq, z: qz},\n",
        "                     data={x: x_train})\n",
        "inference.initialize()\n",
        "\n",
        "sess = ed.get_session()\n",
        "tf.global_variables_initializer().run()\n",
        "\n",
        "t_ph = tf.placeholder(tf.int32, [])\n",
        "running_cluster_means = tf.reduce_mean(qmu.params[:t_ph], 0)\n",
        "\n",
        "for _ in range(inference.n_iter):\n",
        "  info_dict = inference.update()\n",
        "  inference.print_progress(info_dict)\n",
        "  t = info_dict['t']\n",
        "  #if t % inference.n_print == 0:\n",
        "  #  print(\"\\nInferred cluster means:\")\n",
        "  #  print(sess.run(running_cluster_means, {t_ph: t - 1}))"
      ],
      "execution_count": 6,
      "outputs": [
        {
          "output_type": "stream",
          "text": [
            "/usr/local/lib/python3.6/dist-packages/edward/util/random_variables.py:52: FutureWarning: Conversion of the second argument of issubdtype from `float` to `np.floating` is deprecated. In future, it will be treated as `np.float64 == np.dtype(float).type`.\n",
            "  not np.issubdtype(value.dtype, np.float) and \\\n"
          ],
          "name": "stderr"
        },
        {
          "output_type": "stream",
          "text": [
            "500/500 [100%] ██████████████████████████████ Elapsed: 205s | Acceptance Rate: 1.000\n"
          ],
          "name": "stdout"
        }
      ]
    },
    {
      "metadata": {
        "colab_type": "code",
        "id": "RbGjIpBbaMgG",
        "colab": {}
      },
      "cell_type": "code",
      "source": [
        "cluster_means = sess.run(running_cluster_means, {t_ph: t - 1})"
      ],
      "execution_count": 0,
      "outputs": []
    },
    {
      "metadata": {
        "colab_type": "code",
        "outputId": "d7db9c11-f0c4-4a59-ac03-d8627555056e",
        "id": "OD8Jg9mhaMgI",
        "colab": {
          "base_uri": "https://localhost:8080/",
          "height": 364
        }
      },
      "cell_type": "code",
      "source": [
        "import matplotlib.pyplot as plt\n",
        "from sklearn.decomposition import PCA\n",
        "\n",
        "pca_model = PCA(n_components=2)\n",
        "stats_transformed = pca_model.fit_transform(cluster_means)\n",
        "plt.scatter(stats_transformed[:,0], stats_transformed[:, 1])"
      ],
      "execution_count": 8,
      "outputs": [
        {
          "output_type": "execute_result",
          "data": {
            "text/plain": [
              "<matplotlib.collections.PathCollection at 0x7f7c871a9748>"
            ]
          },
          "metadata": {
            "tags": []
          },
          "execution_count": 8
        },
        {
          "output_type": "display_data",
          "data": {
            "image/png": "[encoded data removed]",
            "text/plain": [
              "<matplotlib.figure.Figure at 0x7f7c9077fb00>"
            ]
          },
          "metadata": {
            "tags": []
          }
        }
      ]
    },
    {
      "metadata": {
        "colab_type": "code",
        "id": "ig4V4HNgaMgM",
        "colab": {}
      },
      "cell_type": "code",
      "source": [
        "# Calculate likelihood for each data point and cluster assignment,\n",
        "# averaged over many posterior samples. ``x_post`` has shape (N, 100, K, D).\n",
        "mu_sample = qmu.sample(100)\n",
        "sigmasq_sample = qsigmasq.sample(100)\n",
        "x_post = Normal(loc=tf.cast(tf.ones([N, 1, 1, 1]) * mu_sample, tf.float64),\n",
        "                scale=tf.cast(tf.ones([N, 1, 1, 1]) * tf.sqrt(sigmasq_sample), tf.float64))\n",
        "x_broadcasted = tf.tile(tf.reshape(x_train, [N, 1, 1, D]), [1, 100, K, 1])\n",
        "\n",
        "# Sum over latent dimension, then average over posterior samples.\n",
        "# ``log_liks`` ends up with shape (N, K).\n",
        "log_liks = x_post.log_prob(x_broadcasted)\n",
        "log_liks = tf.reduce_sum(log_liks, 3)\n",
        "log_liks = tf.reduce_mean(log_liks, 1)\n",
        "#print(log_liks.shape)\n",
        "#log_liks.eval()[:10]"
      ],
      "execution_count": 0,
      "outputs": []
    },
    {
      "metadata": {
        "colab_type": "code",
        "outputId": "58401d63-47e8-47e1-e3fc-1629fc15ccb5",
        "id": "iNYbroiIaMgP",
        "colab": {
          "base_uri": "https://localhost:8080/",
          "height": 367
        }
      },
      "cell_type": "code",
      "source": [
        "log_ll_values = sess.run(log_liks)\n",
        "\n",
        "log_ll_values_2d = PCA(n_components=2).fit_transform(log_ll_values)\n",
        "plt.scatter(log_ll_values_2d[:,0], log_ll_values_2d[:, 1])"
      ],
      "execution_count": 10,
      "outputs": [
        {
          "output_type": "execute_result",
          "data": {
            "text/plain": [
              "<matplotlib.collections.PathCollection at 0x7f7c84784358>"
            ]
          },
          "metadata": {
            "tags": []
          },
          "execution_count": 10
        },
        {
          "output_type": "display_data",
          "data": {
            "image/png": "[encoded data removed]",
            "text/plain": [
              "<matplotlib.figure.Figure at 0x7f7c90688438>"
            ]
          },
          "metadata": {
            "tags": []
          }
        }
      ]
    },
    {
      "metadata": {
        "colab_type": "code",
        "outputId": "385946b3-05a2-41fa-bdf8-339bce616ef5",
        "id": "cjjjLFlPaMgT",
        "colab": {
          "base_uri": "https://localhost:8080/",
          "height": 34
        }
      },
      "cell_type": "code",
      "source": [
        "from collections import Counter\n",
        "\n",
        "clusters = tf.argmax(log_liks, 1).eval()\n",
        "\n",
        "counts = Counter(clusters)\n",
        "counts.most_common(5)"
      ],
      "execution_count": 11,
      "outputs": [
        {
          "output_type": "execute_result",
          "data": {
            "text/plain": [
              "[(2, 832), (4, 770), (3, 720), (0, 688), (1, 323)]"
            ]
          },
          "metadata": {
            "tags": []
          },
          "execution_count": 11
        }
      ]
    },
    {
      "metadata": {
        "colab_type": "code",
        "outputId": "a29897f6-6f0a-431a-d6ba-484e5923994c",
        "id": "-NXNaQZ5aMgY",
        "colab": {
          "base_uri": "https://localhost:8080/",
          "height": 346
        }
      },
      "cell_type": "code",
      "source": [
        "max_log_liks = np.max(log_liks.eval(), 1)\n",
        "\n",
        "plt.hist(max_log_liks, bins=20)\n",
        "plt.show()"
      ],
      "execution_count": 12,
      "outputs": [
        {
          "output_type": "display_data",
          "data": {
            "image/png": "[encoded data removed]",
            "text/plain": [
              "<matplotlib.figure.Figure at 0x7f7c9e622eb8>"
            ]
          },
          "metadata": {
            "tags": []
          }
        }
      ]
    },
    {
      "metadata": {
        "colab_type": "code",
        "outputId": "72d983e2-fe52-4f2a-944f-84cca9011ef3",
        "id": "TkJKa8RJaMgg",
        "colab": {
          "base_uri": "https://localhost:8080/",
          "height": 226
        }
      },
      "cell_type": "code",
      "source": [
        "csv.head()"
      ],
      "execution_count": 13,
      "outputs": [
        {
          "output_type": "execute_result",
          "data": {
            "text/html": [
              "<div>\n",
              "<style scoped>\n",
              "    .dataframe tbody tr th:only-of-type {\n",
              "        vertical-align: middle;\n",
              "    }\n",
              "\n",
              "    .dataframe tbody tr th {\n",
              "        vertical-align: top;\n",
              "    }\n",
              "\n",
              "    .dataframe thead th {\n",
              "        text-align: right;\n",
              "    }\n",
              "</style>\n",
              "<table border=\"1\" class=\"dataframe\">\n",
              "  <thead>\n",
              "    <tr style=\"text-align: right;\">\n",
              "      <th></th>\n",
              "      <th>Year</th>\n",
              "      <th>Player</th>\n",
              "      <th>Pos</th>\n",
              "      <th>Age</th>\n",
              "      <th>Tm</th>\n",
              "      <th>G</th>\n",
              "      <th>GS</th>\n",
              "      <th>MP</th>\n",
              "      <th>PER</th>\n",
              "      <th>TS%</th>\n",
              "      <th>...</th>\n",
              "      <th>FT%</th>\n",
              "      <th>ORB</th>\n",
              "      <th>DRB</th>\n",
              "      <th>TRB</th>\n",
              "      <th>AST</th>\n",
              "      <th>STL</th>\n",
              "      <th>BLK</th>\n",
              "      <th>TOV</th>\n",
              "      <th>PF</th>\n",
              "      <th>PTS</th>\n",
              "    </tr>\n",
              "  </thead>\n",
              "  <tbody>\n",
              "    <tr>\n",
              "      <th>20501</th>\n",
              "      <td>2011.0</td>\n",
              "      <td>Jeff Adrien</td>\n",
              "      <td>PF</td>\n",
              "      <td>24.0</td>\n",
              "      <td>GSW</td>\n",
              "      <td>23.0</td>\n",
              "      <td>0.0</td>\n",
              "      <td>196.0</td>\n",
              "      <td>11.3</td>\n",
              "      <td>0.457</td>\n",
              "      <td>...</td>\n",
              "      <td>0.579000</td>\n",
              "      <td>23.0</td>\n",
              "      <td>35.0</td>\n",
              "      <td>58.0</td>\n",
              "      <td>10.0</td>\n",
              "      <td>4.0</td>\n",
              "      <td>5.0</td>\n",
              "      <td>9.0</td>\n",
              "      <td>28.0</td>\n",
              "      <td>57.0</td>\n",
              "    </tr>\n",
              "    <tr>\n",
              "      <th>20502</th>\n",
              "      <td>2011.0</td>\n",
              "      <td>Arron Afflalo</td>\n",
              "      <td>SG</td>\n",
              "      <td>25.0</td>\n",
              "      <td>DEN</td>\n",
              "      <td>69.0</td>\n",
              "      <td>69.0</td>\n",
              "      <td>2324.0</td>\n",
              "      <td>13.6</td>\n",
              "      <td>0.620</td>\n",
              "      <td>...</td>\n",
              "      <td>0.847000</td>\n",
              "      <td>45.0</td>\n",
              "      <td>206.0</td>\n",
              "      <td>251.0</td>\n",
              "      <td>168.0</td>\n",
              "      <td>34.0</td>\n",
              "      <td>31.0</td>\n",
              "      <td>71.0</td>\n",
              "      <td>153.0</td>\n",
              "      <td>867.0</td>\n",
              "    </tr>\n",
              "    <tr>\n",
              "      <th>20503</th>\n",
              "      <td>2011.0</td>\n",
              "      <td>Maurice Ager</td>\n",
              "      <td>SG</td>\n",
              "      <td>26.0</td>\n",
              "      <td>MIN</td>\n",
              "      <td>4.0</td>\n",
              "      <td>0.0</td>\n",
              "      <td>29.0</td>\n",
              "      <td>10.1</td>\n",
              "      <td>0.682</td>\n",
              "      <td>...</td>\n",
              "      <td>0.723489</td>\n",
              "      <td>0.0</td>\n",
              "      <td>2.0</td>\n",
              "      <td>2.0</td>\n",
              "      <td>1.0</td>\n",
              "      <td>1.0</td>\n",
              "      <td>0.0</td>\n",
              "      <td>4.0</td>\n",
              "      <td>4.0</td>\n",
              "      <td>15.0</td>\n",
              "    </tr>\n",
              "    <tr>\n",
              "      <th>20504</th>\n",
              "      <td>2011.0</td>\n",
              "      <td>Alexis Ajinca</td>\n",
              "      <td>C</td>\n",
              "      <td>22.0</td>\n",
              "      <td>TOT</td>\n",
              "      <td>34.0</td>\n",
              "      <td>2.0</td>\n",
              "      <td>340.0</td>\n",
              "      <td>12.2</td>\n",
              "      <td>0.507</td>\n",
              "      <td>...</td>\n",
              "      <td>0.722000</td>\n",
              "      <td>17.0</td>\n",
              "      <td>61.0</td>\n",
              "      <td>78.0</td>\n",
              "      <td>10.0</td>\n",
              "      <td>11.0</td>\n",
              "      <td>19.0</td>\n",
              "      <td>18.0</td>\n",
              "      <td>73.0</td>\n",
              "      <td>143.0</td>\n",
              "    </tr>\n",
              "    <tr>\n",
              "      <th>20505</th>\n",
              "      <td>2011.0</td>\n",
              "      <td>Alexis Ajinca</td>\n",
              "      <td>C</td>\n",
              "      <td>22.0</td>\n",
              "      <td>DAL</td>\n",
              "      <td>10.0</td>\n",
              "      <td>2.0</td>\n",
              "      <td>75.0</td>\n",
              "      <td>12.8</td>\n",
              "      <td>0.435</td>\n",
              "      <td>...</td>\n",
              "      <td>0.667000</td>\n",
              "      <td>5.0</td>\n",
              "      <td>12.0</td>\n",
              "      <td>17.0</td>\n",
              "      <td>2.0</td>\n",
              "      <td>3.0</td>\n",
              "      <td>5.0</td>\n",
              "      <td>1.0</td>\n",
              "      <td>13.0</td>\n",
              "      <td>29.0</td>\n",
              "    </tr>\n",
              "  </tbody>\n",
              "</table>\n",
              "<p>5 rows × 48 columns</p>\n",
              "</div>"
            ],
            "text/plain": [
              "         Year         Player Pos   Age   Tm     G    GS      MP   PER    TS%  \\\n",
              "20501  2011.0    Jeff Adrien  PF  24.0  GSW  23.0   0.0   196.0  11.3  0.457   \n",
              "20502  2011.0  Arron Afflalo  SG  25.0  DEN  69.0  69.0  2324.0  13.6  0.620   \n",
              "20503  2011.0   Maurice Ager  SG  26.0  MIN   4.0   0.0    29.0  10.1  0.682   \n",
              "20504  2011.0  Alexis Ajinca   C  22.0  TOT  34.0   2.0   340.0  12.2  0.507   \n",
              "20505  2011.0  Alexis Ajinca   C  22.0  DAL  10.0   2.0    75.0  12.8  0.435   \n",
              "\n",
              "       ...         FT%   ORB    DRB    TRB    AST   STL   BLK   TOV     PF  \\\n",
              "20501  ...    0.579000  23.0   35.0   58.0   10.0   4.0   5.0   9.0   28.0   \n",
              "20502  ...    0.847000  45.0  206.0  251.0  168.0  34.0  31.0  71.0  153.0   \n",
              "20503  ...    0.723489   0.0    2.0    2.0    1.0   1.0   0.0   4.0    4.0   \n",
              "20504  ...    0.722000  17.0   61.0   78.0   10.0  11.0  19.0  18.0   73.0   \n",
              "20505  ...    0.667000   5.0   12.0   17.0    2.0   3.0   5.0   1.0   13.0   \n",
              "\n",
              "         PTS  \n",
              "20501   57.0  \n",
              "20502  867.0  \n",
              "20503   15.0  \n",
              "20504  143.0  \n",
              "20505   29.0  \n",
              "\n",
              "[5 rows x 48 columns]"
            ]
          },
          "metadata": {
            "tags": []
          },
          "execution_count": 13
        }
      ]
    },
    {
      "metadata": {
        "colab_type": "code",
        "outputId": "5ec429dc-e4de-47bb-8522-38e44743ef96",
        "id": "O1eUFzSFaMgk",
        "colab": {
          "base_uri": "https://localhost:8080/",
          "height": 461
        }
      },
      "cell_type": "code",
      "source": [
        "positions = total_csv['Pos'].tolist()\n",
        "pos_clusters = pd.DataFrame(list(zip(positions, clusters)), columns=['Pos', 'Cluster'])\n",
        "pos_clusters = pos_clusters[pos_clusters['Pos'].isin(['C', 'PF', 'PG', 'SF', 'SG'])]\n",
        "print(pos_clusters.groupby(['Pos', 'Cluster']).size())\n"
      ],
      "execution_count": 14,
      "outputs": [
        {
          "output_type": "stream",
          "text": [
            "Pos  Cluster\n",
            "C    0          146\n",
            "     1          200\n",
            "     2           26\n",
            "     3          131\n",
            "     4          157\n",
            "PF   0          132\n",
            "     1          118\n",
            "     2          103\n",
            "     3          141\n",
            "     4          177\n",
            "PG   0          116\n",
            "     2          214\n",
            "     3          137\n",
            "     4          159\n",
            "SF   0          139\n",
            "     1            4\n",
            "     2          212\n",
            "     3          151\n",
            "     4          133\n",
            "SG   0          145\n",
            "     2          260\n",
            "     3          147\n",
            "     4          137\n",
            "dtype: int64\n"
          ],
          "name": "stdout"
        }
      ]
    },
    {
      "metadata": {
        "colab_type": "code",
        "outputId": "b37f9a38-54dd-4a95-de8a-466af0e02f70",
        "id": "G8yYKur0aMgx",
        "colab": {
          "base_uri": "https://localhost:8080/",
          "height": 418
        }
      },
      "cell_type": "code",
      "source": [
        "positions = ['C', 'PF', 'PG', 'SF', 'SG']\n",
        "clusters = list(range(5))\n",
        "\n",
        "pos_clusters_data = pos_clusters.groupby(['Pos', 'Cluster']).size().reshape([5, 5])\n",
        "\n",
        "\n",
        "fig, ax = plt.subplots()\n",
        "im = ax.imshow(pos_clusters_data, cmap = 'summer')\n",
        "\n",
        "# We want to show all ticks...\n",
        "ax.set_xticks(np.arange(len(positions)))\n",
        "ax.set_yticks(np.arange(len(clusters)))\n",
        "# ... and label them with the respective list entries\n",
        "ax.set_xticklabels(positions)\n",
        "ax.set_yticklabels(clusters)\n",
        "\n",
        "# Rotate the tick labels and set their alignment.\n",
        "plt.setp(ax.get_xticklabels(), rotation=45, ha=\"right\",\n",
        "         rotation_mode=\"anchor\")\n",
        "\n",
        "# Loop over data dimensions and create text annotations.\n",
        "for i in range(len(positions)):\n",
        "    for j in range(len(clusters)):\n",
        "        text = ax.text(j, i, pos_clusters_data[i, j],\n",
        "                       ha=\"center\", va=\"center\", color=\"black\")\n",
        "\n",
        "ax.set_title(\"Cluster Count by Player Position\")\n",
        "fig.tight_layout()\n",
        "plt.show()"
      ],
      "execution_count": 15,
      "outputs": [
        {
          "output_type": "stream",
          "text": [
            "/usr/local/lib/python3.6/dist-packages/ipykernel_launcher.py:4: FutureWarning: reshape is deprecated and will raise in a subsequent release. Please use .values.reshape(...) instead\n",
            "  after removing the cwd from sys.path.\n"
          ],
          "name": "stderr"
        },
        {
          "output_type": "error",
          "ename": "ValueError",
          "evalue": "ignored",
          "traceback": [
            "\u001b[0;31m---------------------------------------------------------------------------\u001b[0m",
            "\u001b[0;31mValueError\u001b[0m                                Traceback (most recent call last)",
            "\u001b[0;32m<ipython-input-15-45e72d26216a>\u001b[0m in \u001b[0;36m<module>\u001b[0;34m()\u001b[0m\n\u001b[1;32m      2\u001b[0m \u001b[0mclusters\u001b[0m \u001b[0;34m=\u001b[0m \u001b[0mlist\u001b[0m\u001b[0;34m(\u001b[0m\u001b[0mrange\u001b[0m\u001b[0;34m(\u001b[0m\u001b[0;36m5\u001b[0m\u001b[0;34m)\u001b[0m\u001b[0;34m)\u001b[0m\u001b[0;34m\u001b[0m\u001b[0m\n\u001b[1;32m      3\u001b[0m \u001b[0;34m\u001b[0m\u001b[0m\n\u001b[0;32m----> 4\u001b[0;31m \u001b[0mpos_clusters_data\u001b[0m \u001b[0;34m=\u001b[0m \u001b[0mpos_clusters\u001b[0m\u001b[0;34m.\u001b[0m\u001b[0mgroupby\u001b[0m\u001b[0;34m(\u001b[0m\u001b[0;34m[\u001b[0m\u001b[0;34m'Pos'\u001b[0m\u001b[0;34m,\u001b[0m \u001b[0;34m'Cluster'\u001b[0m\u001b[0;34m]\u001b[0m\u001b[0;34m)\u001b[0m\u001b[0;34m.\u001b[0m\u001b[0msize\u001b[0m\u001b[0;34m(\u001b[0m\u001b[0;34m)\u001b[0m\u001b[0;34m.\u001b[0m\u001b[0mreshape\u001b[0m\u001b[0;34m(\u001b[0m\u001b[0;34m[\u001b[0m\u001b[0;36m5\u001b[0m\u001b[0;34m,\u001b[0m \u001b[0;36m5\u001b[0m\u001b[0;34m]\u001b[0m\u001b[0;34m)\u001b[0m\u001b[0;34m\u001b[0m\u001b[0m\n\u001b[0m\u001b[1;32m      5\u001b[0m \u001b[0;34m\u001b[0m\u001b[0m\n\u001b[1;32m      6\u001b[0m \u001b[0;34m\u001b[0m\u001b[0m\n",
            "\u001b[0;32m/usr/local/lib/python3.6/dist-packages/pandas/core/series.py\u001b[0m in \u001b[0;36mreshape\u001b[0;34m(self, *args, **kwargs)\u001b[0m\n\u001b[1;32m    899\u001b[0m             \u001b[0;32mreturn\u001b[0m \u001b[0mself\u001b[0m\u001b[0;34m\u001b[0m\u001b[0m\n\u001b[1;32m    900\u001b[0m \u001b[0;34m\u001b[0m\u001b[0m\n\u001b[0;32m--> 901\u001b[0;31m         \u001b[0;32mreturn\u001b[0m \u001b[0mself\u001b[0m\u001b[0;34m.\u001b[0m\u001b[0m_values\u001b[0m\u001b[0;34m.\u001b[0m\u001b[0mreshape\u001b[0m\u001b[0;34m(\u001b[0m\u001b[0mshape\u001b[0m\u001b[0;34m,\u001b[0m \u001b[0;34m**\u001b[0m\u001b[0mkwargs\u001b[0m\u001b[0;34m)\u001b[0m\u001b[0;34m\u001b[0m\u001b[0m\n\u001b[0m\u001b[1;32m    902\u001b[0m \u001b[0;34m\u001b[0m\u001b[0m\n\u001b[1;32m    903\u001b[0m     \u001b[0;32mdef\u001b[0m \u001b[0mget_value\u001b[0m\u001b[0;34m(\u001b[0m\u001b[0mself\u001b[0m\u001b[0;34m,\u001b[0m \u001b[0mlabel\u001b[0m\u001b[0;34m,\u001b[0m \u001b[0mtakeable\u001b[0m\u001b[0;34m=\u001b[0m\u001b[0;32mFalse\u001b[0m\u001b[0;34m)\u001b[0m\u001b[0;34m:\u001b[0m\u001b[0;34m\u001b[0m\u001b[0m\n",
            "\u001b[0;31mValueError\u001b[0m: cannot reshape array of size 23 into shape (5,5)"
          ]
        }
      ]
    },
    {
      "metadata": {
        "id": "PtxMX2aaYUDK",
        "colab_type": "text"
      },
      "cell_type": "markdown",
      "source": [
        "# Third Run (scaling & per-minute stats)"
      ]
    },
    {
      "metadata": {
        "id": "kyvpMbaOczzR",
        "colab_type": "code",
        "colab": {}
      },
      "cell_type": "code",
      "source": [
        "import edward as ed\n",
        "import pandas as pd\n",
        "import numpy as np\n",
        "import tensorflow as tf\n",
        "from sklearn.preprocessing import StandardScaler"
      ],
      "execution_count": 0,
      "outputs": []
    },
    {
      "metadata": {
        "id": "dh-7vZW-c1T-",
        "colab_type": "code",
        "colab": {}
      },
      "cell_type": "code",
      "source": [
        "csv = pd.read_csv('drive/player_season_stats.csv', index_col = 0)\n",
        "csv = csv[csv.Year>=2011]\n",
        "csv = csv.fillna(csv.mean())\n",
        "count_columns = [col for col in csv.columns if not (('%' in col) or (col in ['PER', 'Age', 'OWS', 'DWS', 'WS', 'WS/48', 'BPM', 'VORP', '3PAr', 'FTr']))]\n",
        "count_csv = csv[count_columns]\n",
        "total_csv = csv.drop_duplicates(subset = ['Year', 'Player'], keep='first')[count_columns]"
      ],
      "execution_count": 0,
      "outputs": []
    },
    {
      "metadata": {
        "id": "gLhYgX4Gi7HW",
        "colab_type": "code",
        "colab": {
          "base_uri": "https://localhost:8080/",
          "height": 141
        },
        "outputId": "3889dae3-b9ec-423d-a69c-a94807f17480"
      },
      "cell_type": "code",
      "source": [
        "x_train = total_csv[total_csv['MP']!=0]\n",
        "\n",
        "for i in ['FG', 'FGA', '3P', '3PA', '2P', '2PA', 'FT', 'FTA',\n",
        "       'ORB', 'DRB', 'TRB', 'AST', 'STL', 'BLK', 'TOV', 'PF', 'PTS']:\n",
        "  x_train[i] = x_train[i].values / x_train['MP'].values\n",
        "\n",
        "\n",
        "# Standardizing variance across stats\n",
        "x_train = total_csv.drop(['Year', 'Player', 'Pos', 'Tm', 'MP'], axis=1)\n",
        "scaler = StandardScaler()\n",
        "x_train = scaler.fit_transform(x_train)\n",
        "print(x_train.shape)\n",
        "\n",
        "N = x_train.shape[0]\n",
        "D = x_train.shape[1]\n",
        "K = 5"
      ],
      "execution_count": 4,
      "outputs": [
        {
          "output_type": "stream",
          "text": [
            "/usr/local/lib/python3.6/dist-packages/ipykernel_launcher.py:5: SettingWithCopyWarning: \n",
            "A value is trying to be set on a copy of a slice from a DataFrame.\n",
            "Try using .loc[row_indexer,col_indexer] = value instead\n",
            "\n",
            "See the caveats in the documentation: http://pandas.pydata.org/pandas-docs/stable/indexing.html#indexing-view-versus-copy\n",
            "  \"\"\"\n"
          ],
          "name": "stderr"
        },
        {
          "output_type": "stream",
          "text": [
            "(3333, 19)\n"
          ],
          "name": "stdout"
        }
      ]
    },
    {
      "metadata": {
        "id": "plwXL6GrmYZx",
        "colab_type": "code",
        "colab": {}
      },
      "cell_type": "code",
      "source": [
        "from edward.models import Dirichlet, InverseGamma, MultivariateNormalDiag, \\\n",
        "    Normal, ParamMixture, Empirical\n",
        "\n",
        "#tf.reset_default_graph()\n",
        "\n",
        "pi = Dirichlet(tf.ones(K))\n",
        "mu = Normal(tf.zeros(D), tf.ones(D), sample_shape=K)\n",
        "sigmasq = InverseGamma(tf.ones(D), tf.ones(D), sample_shape=K)\n",
        "x = ParamMixture(pi, {'loc': mu, 'scale_diag': tf.sqrt(sigmasq)},\n",
        "                 MultivariateNormalDiag,\n",
        "                 sample_shape=N)\n",
        "z = x.cat"
      ],
      "execution_count": 0,
      "outputs": []
    },
    {
      "metadata": {
        "id": "HmI1N5SYmkD9",
        "colab_type": "code",
        "colab": {}
      },
      "cell_type": "code",
      "source": [
        "T = 500  # number of MCMC samples\n",
        "\n",
        "qpi = Empirical(tf.get_variable(\n",
        "    \"qpi/params\", [T, K],\n",
        "    initializer=tf.constant_initializer(1.0 / K)))\n",
        "qmu = Empirical(tf.get_variable(\n",
        "    \"qmu/params\", [T, K, D],\n",
        "    initializer=tf.zeros_initializer()))\n",
        "qsigmasq = Empirical(tf.get_variable(\n",
        "    \"qsigmasq/params\", [T, K, D],\n",
        "    initializer=tf.ones_initializer()))\n",
        "qz = Empirical(tf.get_variable(\n",
        "    \"qz/params\", [T, N],\n",
        "    initializer=tf.zeros_initializer(),\n",
        "    dtype=tf.int32))"
      ],
      "execution_count": 0,
      "outputs": []
    },
    {
      "metadata": {
        "id": "s9r7d_KKmsIf",
        "colab_type": "code",
        "colab": {
          "base_uri": "https://localhost:8080/",
          "height": 90
        },
        "outputId": "a57c4f5c-8f3c-4109-e5d5-cc011b9d4716"
      },
      "cell_type": "code",
      "source": [
        "inference = ed.Gibbs({pi: qpi, mu: qmu, sigmasq: qsigmasq, z: qz},\n",
        "                     data={x: x_train})\n",
        "inference.initialize()\n",
        "\n",
        "sess = ed.get_session()\n",
        "tf.global_variables_initializer().run()\n",
        "\n",
        "t_ph = tf.placeholder(tf.int32, [])\n",
        "running_cluster_means = tf.reduce_mean(qmu.params[:t_ph], 0)\n",
        "\n",
        "for _ in range(inference.n_iter):\n",
        "  info_dict = inference.update()\n",
        "  inference.print_progress(info_dict)\n",
        "  t = info_dict['t']\n",
        "  #if t % inference.n_print == 0:\n",
        "  #  print(\"\\nInferred cluster means:\")\n",
        "  #  print(sess.run(running_cluster_means, {t_ph: t - 1}))"
      ],
      "execution_count": 7,
      "outputs": [
        {
          "output_type": "stream",
          "text": [
            "/usr/local/lib/python3.6/dist-packages/edward/util/random_variables.py:52: FutureWarning: Conversion of the second argument of issubdtype from `float` to `np.floating` is deprecated. In future, it will be treated as `np.float64 == np.dtype(float).type`.\n",
            "  not np.issubdtype(value.dtype, np.float) and \\\n"
          ],
          "name": "stderr"
        },
        {
          "output_type": "stream",
          "text": [
            "500/500 [100%] ██████████████████████████████ Elapsed: 204s | Acceptance Rate: 1.000\n"
          ],
          "name": "stdout"
        }
      ]
    },
    {
      "metadata": {
        "id": "pEKMzfSusKtv",
        "colab_type": "code",
        "colab": {}
      },
      "cell_type": "code",
      "source": [
        "cluster_means = sess.run(running_cluster_means, {t_ph: t - 1})"
      ],
      "execution_count": 0,
      "outputs": []
    },
    {
      "metadata": {
        "id": "KMnIipW6swj5",
        "colab_type": "code",
        "colab": {
          "base_uri": "https://localhost:8080/",
          "height": 364
        },
        "outputId": "99dc45ac-5b3a-4a82-cdf0-e2e89603473a"
      },
      "cell_type": "code",
      "source": [
        "import matplotlib.pyplot as plt\n",
        "from sklearn.decomposition import PCA\n",
        "\n",
        "pca_model = PCA(n_components=2)\n",
        "stats_transformed = pca_model.fit_transform(cluster_means)\n",
        "plt.scatter(stats_transformed[:,0], stats_transformed[:, 1])"
      ],
      "execution_count": 9,
      "outputs": [
        {
          "output_type": "execute_result",
          "data": {
            "text/plain": [
              "<matplotlib.collections.PathCollection at 0x7f0247eea780>"
            ]
          },
          "metadata": {
            "tags": []
          },
          "execution_count": 9
        },
        {
          "output_type": "display_data",
          "data": {
            "image/png": "[encoded data removed]",
            "text/plain": [
              "<matplotlib.figure.Figure at 0x7f025138b6a0>"
            ]
          },
          "metadata": {
            "tags": []
          }
        }
      ]
    },
    {
      "metadata": {
        "id": "2DWViNUZrQ8F",
        "colab_type": "code",
        "colab": {}
      },
      "cell_type": "code",
      "source": [
        "# Calculate likelihood for each data point and cluster assignment,\n",
        "# averaged over many posterior samples. ``x_post`` has shape (N, 100, K, D).\n",
        "mu_sample = qmu.sample(100)\n",
        "sigmasq_sample = qsigmasq.sample(100)\n",
        "x_post = Normal(loc=tf.cast(tf.ones([N, 1, 1, 1]) * mu_sample, tf.float64),\n",
        "                scale=tf.cast(tf.ones([N, 1, 1, 1]) * tf.sqrt(sigmasq_sample), tf.float64))\n",
        "x_broadcasted = tf.tile(tf.reshape(x_train, [N, 1, 1, D]), [1, 100, K, 1])\n",
        "\n",
        "# Sum over latent dimension, then average over posterior samples.\n",
        "# ``log_liks`` ends up with shape (N, K).\n",
        "log_liks = x_post.log_prob(x_broadcasted)\n",
        "log_liks = tf.reduce_sum(log_liks, 3)\n",
        "log_liks = tf.reduce_mean(log_liks, 1)\n",
        "#print(log_liks.shape)\n",
        "#log_liks.eval()[:10]"
      ],
      "execution_count": 0,
      "outputs": []
    },
    {
      "metadata": {
        "id": "EczROkrxroV2",
        "colab_type": "code",
        "colab": {
          "base_uri": "https://localhost:8080/",
          "height": 364
        },
        "outputId": "55776047-8657-47a5-92b4-bccede2c697d"
      },
      "cell_type": "code",
      "source": [
        "log_ll_values = sess.run(log_liks)\n",
        "\n",
        "log_ll_values_2d = PCA(n_components=2).fit_transform(log_ll_values)\n",
        "plt.scatter(log_ll_values_2d[:,0], log_ll_values_2d[:, 1])"
      ],
      "execution_count": 11,
      "outputs": [
        {
          "output_type": "execute_result",
          "data": {
            "text/plain": [
              "<matplotlib.collections.PathCollection at 0x7f02454d21d0>"
            ]
          },
          "metadata": {
            "tags": []
          },
          "execution_count": 11
        },
        {
          "output_type": "display_data",
          "data": {
            "image/png": "[encoded data removed]",
            "text/plain": [
              "<matplotlib.figure.Figure at 0x7f025133bb70>"
            ]
          },
          "metadata": {
            "tags": []
          }
        }
      ]
    },
    {
      "metadata": {
        "id": "m9EVt_LStpIz",
        "colab_type": "code",
        "colab": {
          "base_uri": "https://localhost:8080/",
          "height": 34
        },
        "outputId": "1c4a6373-b213-4f9c-978f-7093bdb10a41"
      },
      "cell_type": "code",
      "source": [
        "from collections import Counter\n",
        "\n",
        "clusters = tf.argmax(log_liks, 1).eval()\n",
        "\n",
        "counts = Counter(clusters)\n",
        "counts.most_common(5)"
      ],
      "execution_count": 12,
      "outputs": [
        {
          "output_type": "execute_result",
          "data": {
            "text/plain": [
              "[(0, 819), (2, 752), (3, 617), (1, 606), (4, 539)]"
            ]
          },
          "metadata": {
            "tags": []
          },
          "execution_count": 12
        }
      ]
    },
    {
      "metadata": {
        "id": "MqfoS5x63M5K",
        "colab_type": "code",
        "colab": {
          "base_uri": "https://localhost:8080/",
          "height": 346
        },
        "outputId": "6be5098d-5b0c-4683-9fcd-bff1ce21dd52"
      },
      "cell_type": "code",
      "source": [
        "max_log_liks = np.max(log_liks.eval(), 1)\n",
        "\n",
        "plt.hist(max_log_liks, bins=20)\n",
        "plt.show()"
      ],
      "execution_count": 13,
      "outputs": [
        {
          "output_type": "display_data",
          "data": {
            "image/png": "[encoded data removed]",
            "text/plain": [
              "<matplotlib.figure.Figure at 0x7f025f165198>"
            ]
          },
          "metadata": {
            "tags": []
          }
        }
      ]
    },
    {
      "metadata": {
        "id": "1uw8SiFehxkS",
        "colab_type": "code",
        "colab": {
          "base_uri": "https://localhost:8080/",
          "height": 226
        },
        "outputId": "4bf052b9-7f87-4bf4-89a2-272870fb19c4"
      },
      "cell_type": "code",
      "source": [
        "csv.head()"
      ],
      "execution_count": 14,
      "outputs": [
        {
          "output_type": "execute_result",
          "data": {
            "text/html": [
              "<div>\n",
              "<style scoped>\n",
              "    .dataframe tbody tr th:only-of-type {\n",
              "        vertical-align: middle;\n",
              "    }\n",
              "\n",
              "    .dataframe tbody tr th {\n",
              "        vertical-align: top;\n",
              "    }\n",
              "\n",
              "    .dataframe thead th {\n",
              "        text-align: right;\n",
              "    }\n",
              "</style>\n",
              "<table border=\"1\" class=\"dataframe\">\n",
              "  <thead>\n",
              "    <tr style=\"text-align: right;\">\n",
              "      <th></th>\n",
              "      <th>Year</th>\n",
              "      <th>Player</th>\n",
              "      <th>Pos</th>\n",
              "      <th>Age</th>\n",
              "      <th>Tm</th>\n",
              "      <th>G</th>\n",
              "      <th>GS</th>\n",
              "      <th>MP</th>\n",
              "      <th>PER</th>\n",
              "      <th>TS%</th>\n",
              "      <th>...</th>\n",
              "      <th>FT%</th>\n",
              "      <th>ORB</th>\n",
              "      <th>DRB</th>\n",
              "      <th>TRB</th>\n",
              "      <th>AST</th>\n",
              "      <th>STL</th>\n",
              "      <th>BLK</th>\n",
              "      <th>TOV</th>\n",
              "      <th>PF</th>\n",
              "      <th>PTS</th>\n",
              "    </tr>\n",
              "  </thead>\n",
              "  <tbody>\n",
              "    <tr>\n",
              "      <th>20501</th>\n",
              "      <td>2011.0</td>\n",
              "      <td>Jeff Adrien</td>\n",
              "      <td>PF</td>\n",
              "      <td>24.0</td>\n",
              "      <td>GSW</td>\n",
              "      <td>23.0</td>\n",
              "      <td>0.0</td>\n",
              "      <td>196.0</td>\n",
              "      <td>11.3</td>\n",
              "      <td>0.457</td>\n",
              "      <td>...</td>\n",
              "      <td>0.579000</td>\n",
              "      <td>23.0</td>\n",
              "      <td>35.0</td>\n",
              "      <td>58.0</td>\n",
              "      <td>10.0</td>\n",
              "      <td>4.0</td>\n",
              "      <td>5.0</td>\n",
              "      <td>9.0</td>\n",
              "      <td>28.0</td>\n",
              "      <td>57.0</td>\n",
              "    </tr>\n",
              "    <tr>\n",
              "      <th>20502</th>\n",
              "      <td>2011.0</td>\n",
              "      <td>Arron Afflalo</td>\n",
              "      <td>SG</td>\n",
              "      <td>25.0</td>\n",
              "      <td>DEN</td>\n",
              "      <td>69.0</td>\n",
              "      <td>69.0</td>\n",
              "      <td>2324.0</td>\n",
              "      <td>13.6</td>\n",
              "      <td>0.620</td>\n",
              "      <td>...</td>\n",
              "      <td>0.847000</td>\n",
              "      <td>45.0</td>\n",
              "      <td>206.0</td>\n",
              "      <td>251.0</td>\n",
              "      <td>168.0</td>\n",
              "      <td>34.0</td>\n",
              "      <td>31.0</td>\n",
              "      <td>71.0</td>\n",
              "      <td>153.0</td>\n",
              "      <td>867.0</td>\n",
              "    </tr>\n",
              "    <tr>\n",
              "      <th>20503</th>\n",
              "      <td>2011.0</td>\n",
              "      <td>Maurice Ager</td>\n",
              "      <td>SG</td>\n",
              "      <td>26.0</td>\n",
              "      <td>MIN</td>\n",
              "      <td>4.0</td>\n",
              "      <td>0.0</td>\n",
              "      <td>29.0</td>\n",
              "      <td>10.1</td>\n",
              "      <td>0.682</td>\n",
              "      <td>...</td>\n",
              "      <td>0.723489</td>\n",
              "      <td>0.0</td>\n",
              "      <td>2.0</td>\n",
              "      <td>2.0</td>\n",
              "      <td>1.0</td>\n",
              "      <td>1.0</td>\n",
              "      <td>0.0</td>\n",
              "      <td>4.0</td>\n",
              "      <td>4.0</td>\n",
              "      <td>15.0</td>\n",
              "    </tr>\n",
              "    <tr>\n",
              "      <th>20504</th>\n",
              "      <td>2011.0</td>\n",
              "      <td>Alexis Ajinca</td>\n",
              "      <td>C</td>\n",
              "      <td>22.0</td>\n",
              "      <td>TOT</td>\n",
              "      <td>34.0</td>\n",
              "      <td>2.0</td>\n",
              "      <td>340.0</td>\n",
              "      <td>12.2</td>\n",
              "      <td>0.507</td>\n",
              "      <td>...</td>\n",
              "      <td>0.722000</td>\n",
              "      <td>17.0</td>\n",
              "      <td>61.0</td>\n",
              "      <td>78.0</td>\n",
              "      <td>10.0</td>\n",
              "      <td>11.0</td>\n",
              "      <td>19.0</td>\n",
              "      <td>18.0</td>\n",
              "      <td>73.0</td>\n",
              "      <td>143.0</td>\n",
              "    </tr>\n",
              "    <tr>\n",
              "      <th>20505</th>\n",
              "      <td>2011.0</td>\n",
              "      <td>Alexis Ajinca</td>\n",
              "      <td>C</td>\n",
              "      <td>22.0</td>\n",
              "      <td>DAL</td>\n",
              "      <td>10.0</td>\n",
              "      <td>2.0</td>\n",
              "      <td>75.0</td>\n",
              "      <td>12.8</td>\n",
              "      <td>0.435</td>\n",
              "      <td>...</td>\n",
              "      <td>0.667000</td>\n",
              "      <td>5.0</td>\n",
              "      <td>12.0</td>\n",
              "      <td>17.0</td>\n",
              "      <td>2.0</td>\n",
              "      <td>3.0</td>\n",
              "      <td>5.0</td>\n",
              "      <td>1.0</td>\n",
              "      <td>13.0</td>\n",
              "      <td>29.0</td>\n",
              "    </tr>\n",
              "  </tbody>\n",
              "</table>\n",
              "<p>5 rows × 48 columns</p>\n",
              "</div>"
            ],
            "text/plain": [
              "         Year         Player Pos   Age   Tm     G    GS      MP   PER    TS%  \\\n",
              "20501  2011.0    Jeff Adrien  PF  24.0  GSW  23.0   0.0   196.0  11.3  0.457   \n",
              "20502  2011.0  Arron Afflalo  SG  25.0  DEN  69.0  69.0  2324.0  13.6  0.620   \n",
              "20503  2011.0   Maurice Ager  SG  26.0  MIN   4.0   0.0    29.0  10.1  0.682   \n",
              "20504  2011.0  Alexis Ajinca   C  22.0  TOT  34.0   2.0   340.0  12.2  0.507   \n",
              "20505  2011.0  Alexis Ajinca   C  22.0  DAL  10.0   2.0    75.0  12.8  0.435   \n",
              "\n",
              "       ...         FT%   ORB    DRB    TRB    AST   STL   BLK   TOV     PF  \\\n",
              "20501  ...    0.579000  23.0   35.0   58.0   10.0   4.0   5.0   9.0   28.0   \n",
              "20502  ...    0.847000  45.0  206.0  251.0  168.0  34.0  31.0  71.0  153.0   \n",
              "20503  ...    0.723489   0.0    2.0    2.0    1.0   1.0   0.0   4.0    4.0   \n",
              "20504  ...    0.722000  17.0   61.0   78.0   10.0  11.0  19.0  18.0   73.0   \n",
              "20505  ...    0.667000   5.0   12.0   17.0    2.0   3.0   5.0   1.0   13.0   \n",
              "\n",
              "         PTS  \n",
              "20501   57.0  \n",
              "20502  867.0  \n",
              "20503   15.0  \n",
              "20504  143.0  \n",
              "20505   29.0  \n",
              "\n",
              "[5 rows x 48 columns]"
            ]
          },
          "metadata": {
            "tags": []
          },
          "execution_count": 14
        }
      ]
    },
    {
      "metadata": {
        "id": "MHvDTcQZlTWm",
        "colab_type": "code",
        "colab": {
          "base_uri": "https://localhost:8080/",
          "height": 496
        },
        "outputId": "8d026431-1a26-4616-fade-ad285f5a95b2"
      },
      "cell_type": "code",
      "source": [
        "positions = total_csv['Pos'].tolist()\n",
        "pos_clusters = pd.DataFrame(list(zip(positions, clusters)), columns=['Pos', 'Cluster'])\n",
        "pos_clusters = pos_clusters[pos_clusters['Pos'].isin(['C', 'PF', 'PG', 'SF', 'SG'])]\n",
        "print(pos_clusters.groupby(['Pos', 'Cluster']).size())\n"
      ],
      "execution_count": 15,
      "outputs": [
        {
          "output_type": "stream",
          "text": [
            "Pos  Cluster\n",
            "C    0          135\n",
            "     1          123\n",
            "     2          146\n",
            "     3          134\n",
            "     4          122\n",
            "PF   0          155\n",
            "     1          111\n",
            "     2          162\n",
            "     3          123\n",
            "     4          120\n",
            "PG   0          159\n",
            "     1          112\n",
            "     2          134\n",
            "     3           99\n",
            "     4          122\n",
            "SF   0          155\n",
            "     1          133\n",
            "     2          151\n",
            "     3          120\n",
            "     4           80\n",
            "SG   0          202\n",
            "     1          116\n",
            "     2          147\n",
            "     3          133\n",
            "     4           91\n",
            "dtype: int64\n"
          ],
          "name": "stdout"
        }
      ]
    },
    {
      "metadata": {
        "id": "DssUfUAboUw1",
        "colab_type": "code",
        "colab": {
          "base_uri": "https://localhost:8080/",
          "height": 456
        },
        "outputId": "915eaa0c-e8c3-4128-d226-0f7bf202eea5"
      },
      "cell_type": "code",
      "source": [
        "positions = ['C', 'PF', 'PG', 'SF', 'SG']\n",
        "clusters = list(range(5))\n",
        "\n",
        "pos_clusters_data = pos_clusters.groupby(['Pos', 'Cluster']).size().reshape([5, 5])\n",
        "\n",
        "\n",
        "fig, ax = plt.subplots()\n",
        "im = ax.imshow(pos_clusters_data, cmap = 'summer')\n",
        "\n",
        "# We want to show all ticks...\n",
        "ax.set_xticks(np.arange(len(positions)))\n",
        "ax.set_yticks(np.arange(len(clusters)))\n",
        "# ... and label them with the respective list entries\n",
        "ax.set_xticklabels(positions)\n",
        "ax.set_yticklabels(clusters)\n",
        "\n",
        "# Rotate the tick labels and set their alignment.\n",
        "plt.setp(ax.get_xticklabels(), rotation=45, ha=\"right\",\n",
        "         rotation_mode=\"anchor\")\n",
        "\n",
        "# Loop over data dimensions and create text annotations.\n",
        "for i in range(len(positions)):\n",
        "    for j in range(len(clusters)):\n",
        "        text = ax.text(j, i, pos_clusters_data[i, j],\n",
        "                       ha=\"center\", va=\"center\", color=\"black\")\n",
        "\n",
        "ax.set_title(\"Cluster Count by Player Position\")\n",
        "fig.tight_layout()\n",
        "plt.show()"
      ],
      "execution_count": 16,
      "outputs": [
        {
          "output_type": "stream",
          "text": [
            "/usr/local/lib/python3.6/dist-packages/ipykernel_launcher.py:4: FutureWarning: reshape is deprecated and will raise in a subsequent release. Please use .values.reshape(...) instead\n",
            "  after removing the cwd from sys.path.\n"
          ],
          "name": "stderr"
        },
        {
          "output_type": "display_data",
          "data": {
            "image/png": "[encoded data removed]",
            "text/plain": [
              "<matplotlib.figure.Figure at 0x7f0245467dd8>"
            ]
          },
          "metadata": {
            "tags": []
          }
        }
      ]
    },
    {
      "metadata": {
        "id": "Kg2qFDO89d-k",
        "colab_type": "text"
      },
      "cell_type": "markdown",
      "source": [
        " # Poisson"
      ]
    },
    {
      "metadata": {
        "id": "dwqlNpOx9b0D",
        "colab_type": "text"
      },
      "cell_type": "markdown",
      "source": [
        "Restart kernel and start from here for the next iteration of Box's loop"
      ]
    },
    {
      "metadata": {
        "id": "wYf93s7j9hkm",
        "colab_type": "code",
        "colab": {}
      },
      "cell_type": "code",
      "source": [
        "import edward as ed\n",
        "import pandas as pd\n",
        "import numpy as np\n",
        "import tensorflow as tf\n",
        "from sklearn.preprocessing import StandardScaler"
      ],
      "execution_count": 0,
      "outputs": []
    },
    {
      "metadata": {
        "id": "mBBqNgHq9prJ",
        "colab_type": "code",
        "colab": {}
      },
      "cell_type": "code",
      "source": [
        "csv = pd.read_csv('drive/player_season_stats.csv', index_col = 0)\n",
        "csv = csv[csv.Year>=2011]\n",
        "csv = csv.fillna(csv.mean())\n",
        "count_columns = [col for col in csv.columns if not (('%' in col) or (col in ['PER', 'Age', 'OWS', 'DWS', 'WS', 'WS/48', 'BPM', 'VORP', '3PAr', 'FTr']))]\n",
        "count_csv = csv[count_columns]\n",
        "total_csv = csv.drop_duplicates(subset = ['Year', 'Player'], keep='first')[count_columns]"
      ],
      "execution_count": 0,
      "outputs": []
    },
    {
      "metadata": {
        "id": "DEa_RhI19r3Q",
        "colab_type": "code",
        "colab": {
          "base_uri": "https://localhost:8080/",
          "height": 87
        },
        "outputId": "60cdcc36-637b-4fe1-be4c-54670813f54f"
      },
      "cell_type": "code",
      "source": [
        "x_train = total_csv[total_csv['MP']!=0]\n",
        "N = x_train.shape[0]\n",
        "D = x_train.shape[1]\n",
        "K = 5\n",
        "x_train.columns"
      ],
      "execution_count": 6,
      "outputs": [
        {
          "output_type": "execute_result",
          "data": {
            "text/plain": [
              "Index(['Year', 'Player', 'Pos', 'Tm', 'G', 'GS', 'MP', 'FG', 'FGA', '3P',\n",
              "       '3PA', '2P', '2PA', 'FT', 'FTA', 'ORB', 'DRB', 'TRB', 'AST', 'STL',\n",
              "       'BLK', 'TOV', 'PF', 'PTS'],\n",
              "      dtype='object')"
            ]
          },
          "metadata": {
            "tags": []
          },
          "execution_count": 6
        }
      ]
    },
    {
      "metadata": {
        "id": "R15Yy9PG9zF0",
        "colab_type": "code",
        "colab": {}
      },
      "cell_type": "code",
      "source": [
        "#Redefine model here to use Poissons and multivariate normals\n",
        "from edward.models import Dirichlet, InverseGamma, MultivariateNormalDiag, \\\n",
        "    Normal, ParamMixture, Empirical, Poisson, Independent\n",
        "\n",
        "#tf.reset_default_graph()\n",
        "\n",
        "x_pois_data = x_train[['ORB', 'DRB', 'AST', 'STL', 'BLK']]\n",
        "\n",
        "x_norm_data = x_train[['G', 'GS', 'MP', 'FG', 'FGA', '3P',\n",
        "       '3PA', '2P', '2PA', 'FT', 'FTA', 'TOV', 'PF', 'PTS']]\n",
        "\n",
        "d_normal = x_norm_data.shape[1]\n",
        "d_poisson = x_pois_data.shape[1]\n",
        "\n",
        "pi = Dirichlet(tf.ones(K))\n",
        "mu_normal = Normal(tf.zeros(d_normal), tf.ones(d_normal), sample_shape=K)\n",
        "sigmasq_normal = InverseGamma(tf.ones(d_normal), tf.ones(d_normal), sample_shape=K)\n",
        "\n",
        "rate_poisson = InverseGamma(tf.zeros(d_poisson), tf.ones(d_poisson), sample_shape=K)\n",
        "\n",
        "x_normal = ParamMixture(pi, {'loc': mu_normal, 'scale_diag': tf.sqrt(sigmasq_normal)},\n",
        "                        MultivariateNormalDiag,\n",
        "                        sample_shape=N)\n",
        "z = x.cat\n",
        "\n",
        "# Attempt at mixture of MV poissons\n",
        "\n",
        "\n",
        "\n",
        "qpi = Empirical(tf.get_variable(\n",
        "    \"qpi/params\", [T, K],\n",
        "    initializer=tf.constant_initializer(1.0 / K)))\n",
        "qmu = Empirical(tf.get_variable(\n",
        "    \"qmu/params\", [T, K, D],\n",
        "    initializer=tf.zeros_initializer()))\n",
        "qsigmasq = Empirical(tf.get_variable(\n",
        "    \"qsigmasq/params\", [T, K, D],\n",
        "    initializer=tf.ones_initializer()))\n",
        "qz = Empirical(tf.get_variable(\n",
        "    \"qz/params\", [T, N],\n",
        "    initializer=tf.zeros_initializer(),\n",
        "    dtype=tf.int32))\n",
        "\n"
      ],
      "execution_count": 0,
      "outputs": []
    }
  ]
}