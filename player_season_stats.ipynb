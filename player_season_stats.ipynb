{
  "nbformat": 4,
  "nbformat_minor": 0,
  "metadata": {
    "colab": {
      "name": "player_season_stats.ipynb",
      "version": "0.3.2",
      "provenance": [],
      "collapsed_sections": []
    },
    "kernelspec": {
      "name": "python3",
      "display_name": "Python 3"
    },
    "accelerator": "TPU"
  },
  "cells": [
    {
      "metadata": {
        "id": "G865jVfchwIL",
        "colab_type": "text"
      },
      "cell_type": "markdown",
      "source": [
        "# Clustering Basketball Players\n",
        "### Roland Zhou & Mohammad Radiyat\n"
      ]
    },
    {
      "metadata": {
        "id": "Dg09UN58ifa4",
        "colab_type": "text"
      },
      "cell_type": "markdown",
      "source": [
        "## Introduction \n",
        "### Goal\n",
        "In sports, scouting new players is a constant problem that teams must deal with to maintain their competitive advantage. Usually coaches rely on various signals to make scouting decisions, including player physique, performance in college leagues, and their own intuition and prior experience. However, machine learning, specifically clustering, may be able to find solutions to this problem much more efficiently and/or effectively. The intuition behind clustering is that coaches would want their teams to be as well-balanced as possible instead of focusing on one specific kind of player. Ideally clustering would separate players out such that coaches could just pick somewhat evenly from clusters for a well-balanced selection of players. \n",
        "\n",
        "The goal of this project, then, is to try to see how effectively we can cluster basketball players into five groups and then make sense of the clustering using various visualizations. Some researchers have tried using Gaussian mixture models [[footballresearch2017](http://www.redalyc.org/pdf/710/71051616004.pdf)] on various sources of player statistics information to cluster players together to determine how to separate different kinds of players most optimally. We will also demonstrate the GMM using Edward, and then modify our model by using a Poisson distribution for some of the player statistics instead of Gaussians. \n",
        "\n",
        "### Background\n",
        "#### Basketball background\n",
        "Professional basketball is a 5-on-5 team sport where each player on a team normally takes up a different position. Players aim to put the ball into a basket on opposing sides of the court. Shots made close to the basket are worth 2 points, and shots made from far enough away from the basket are worth 3 points (referred to as 3-pointers). \n",
        "\n",
        "Some important player stats that we use are:\n",
        "* Points scored\n",
        "* Rebounds - # times a player received the ball off of a missed scoring attempt\n",
        "* Assists - # times a player passed a ball to another player who scored\n",
        "* Steals - # times a player took the ball from the opposing team during normal play\n",
        "* Blocks - # times a player successfully blocked a shot from scoring\n",
        "\n",
        "The 5 positions that players can occupy are:\n",
        "* Point guard - usually the team's best passer and ball handler. They focus on assists and steals, and are responsible for leading the team on plays\n",
        "* Shooting guard - players who focus primarily on shooting, especially 3-pointers. \n",
        "* Power forward - prolific scorers able to score close to the basket or through shooting from afar. They rely on strength to guard larger players and athleticism to guard quick players. \n",
        "* Small forward - versatile players who are able to do a little bit of everything, including shooting, passing, foul shots, and aggressively scoring close to the basket.\n",
        "* Center - usually the tallest player, focusing on scoring close to the basket and on rebounds and blocks\n",
        "\n",
        "![](https://i.pinimg.com/originals/6a/85/28/6a85281a70ff8a6b5391681091a87a11.gif)\n",
        "\n",
        "Fig 1. Basketball positions\n",
        "\n",
        "#### Statistical background\n",
        "Gaussian Mixture Models (GMMs) are one of the most widely used types of clustering methods. They assume that data points $x_1, x_2...x_n$ are all independent identically distributed data points, and that they come from a mixture density $p(x) = \\sum_{k=1}^K \\pi_kp_k(x)$ where $p_k(x)$ is the normal probability density function of the observations in group $k$ and the $\\pi$s are the probabilities that an observation comes from the $k^{th}$ mixture component. Each of the normal probability distributions has its own mean $\\mu_k$ and deviation $\\sigma_k$. The $k$-dimensional $\\pi$ mixes the Gaussian components and is defined such that $\\sum_1^K\\pi_k = 1$. \n",
        "\n",
        "These multivariate Gaussian components can be replaced or changed, and in this case we'll change some of the Gaussians to Poissons, each with its own rate parameter $\\lambda$. Instead of having every data variable be modeled with a Gaussian, we'll have some modeled with a Gaussian and others modeled with a Poission. \n",
        "\n",
        "### Data"
      ]
    },
    {
      "metadata": {
        "id": "bge4IqEmh1rS",
        "colab_type": "text"
      },
      "cell_type": "markdown",
      "source": [
        "# Prereqs"
      ]
    },
    {
      "metadata": {
        "id": "aXPiz5SX7UKf",
        "colab_type": "code",
        "outputId": "82357028-5e16-42bb-8f2c-c53a34ee511b",
        "colab": {
          "base_uri": "https://localhost:8080/",
          "height": 683
        }
      },
      "cell_type": "code",
      "source": [
        "!pip install tensorflow==1.6"
      ],
      "execution_count": 0,
      "outputs": [
        {
          "output_type": "stream",
          "text": [
            "Collecting tensorflow==1.6\n",
            "\u001b[?25l  Downloading https://files.pythonhosted.org/packages/d9/0f/fbd8bb92459c75db93040f80702ebe4ba83a52cdb6ad930654c31dc0b711/tensorflow-1.6.0-cp36-cp36m-manylinux1_x86_64.whl (45.8MB)\n",
            "\u001b[K    100% |████████████████████████████████| 45.9MB 741kB/s \n",
            "\u001b[?25hRequirement already satisfied: grpcio>=1.8.6 in /usr/local/lib/python3.6/dist-packages (from tensorflow==1.6) (1.15.0)\n",
            "Requirement already satisfied: wheel>=0.26 in /usr/local/lib/python3.6/dist-packages (from tensorflow==1.6) (0.32.2)\n",
            "Requirement already satisfied: protobuf>=3.4.0 in /usr/local/lib/python3.6/dist-packages (from tensorflow==1.6) (3.6.1)\n",
            "Requirement already satisfied: astor>=0.6.0 in /usr/local/lib/python3.6/dist-packages (from tensorflow==1.6) (0.7.1)\n",
            "Requirement already satisfied: numpy>=1.13.3 in /usr/local/lib/python3.6/dist-packages (from tensorflow==1.6) (1.14.6)\n",
            "Requirement already satisfied: gast>=0.2.0 in /usr/local/lib/python3.6/dist-packages (from tensorflow==1.6) (0.2.0)\n",
            "Requirement already satisfied: termcolor>=1.1.0 in /usr/local/lib/python3.6/dist-packages (from tensorflow==1.6) (1.1.0)\n",
            "Requirement already satisfied: absl-py>=0.1.6 in /usr/local/lib/python3.6/dist-packages (from tensorflow==1.6) (0.6.1)\n",
            "Collecting tensorboard<1.7.0,>=1.6.0 (from tensorflow==1.6)\n",
            "\u001b[?25l  Downloading https://files.pythonhosted.org/packages/b0/67/a8c91665987d359211dcdca5c8b2a7c1e0876eb0702a4383c1e4ff76228d/tensorboard-1.6.0-py3-none-any.whl (3.0MB)\n",
            "\u001b[K    100% |████████████████████████████████| 3.1MB 10.9MB/s \n",
            "\u001b[?25hRequirement already satisfied: six>=1.10.0 in /usr/local/lib/python3.6/dist-packages (from tensorflow==1.6) (1.11.0)\n",
            "Requirement already satisfied: setuptools in /usr/local/lib/python3.6/dist-packages (from protobuf>=3.4.0->tensorflow==1.6) (40.5.0)\n",
            "Collecting html5lib==0.9999999 (from tensorboard<1.7.0,>=1.6.0->tensorflow==1.6)\n",
            "\u001b[?25l  Downloading https://files.pythonhosted.org/packages/ae/ae/bcb60402c60932b32dfaf19bb53870b29eda2cd17551ba5639219fb5ebf9/html5lib-0.9999999.tar.gz (889kB)\n",
            "\u001b[K    100% |████████████████████████████████| 890kB 11.8MB/s \n",
            "\u001b[?25hRequirement already satisfied: werkzeug>=0.11.10 in /usr/local/lib/python3.6/dist-packages (from tensorboard<1.7.0,>=1.6.0->tensorflow==1.6) (0.14.1)\n",
            "Collecting bleach==1.5.0 (from tensorboard<1.7.0,>=1.6.0->tensorflow==1.6)\n",
            "  Downloading https://files.pythonhosted.org/packages/33/70/86c5fec937ea4964184d4d6c4f0b9551564f821e1c3575907639036d9b90/bleach-1.5.0-py2.py3-none-any.whl\n",
            "Requirement already satisfied: markdown>=2.6.8 in /usr/local/lib/python3.6/dist-packages (from tensorboard<1.7.0,>=1.6.0->tensorflow==1.6) (3.0.1)\n",
            "Building wheels for collected packages: html5lib\n",
            "  Running setup.py bdist_wheel for html5lib ... \u001b[?25l-\b \b\\\b \bdone\n",
            "\u001b[?25h  Stored in directory: /root/.cache/pip/wheels/50/ae/f9/d2b189788efcf61d1ee0e36045476735c838898eef1cad6e29\n",
            "Successfully built html5lib\n",
            "Installing collected packages: html5lib, bleach, tensorboard, tensorflow\n",
            "  Found existing installation: bleach 3.0.2\n",
            "    Uninstalling bleach-3.0.2:\n",
            "      Successfully uninstalled bleach-3.0.2\n",
            "  Found existing installation: tensorboard 1.12.0\n",
            "    Uninstalling tensorboard-1.12.0:\n",
            "      Successfully uninstalled tensorboard-1.12.0\n",
            "  Found existing installation: tensorflow 1.12.0\n",
            "    Uninstalling tensorflow-1.12.0:\n",
            "      Successfully uninstalled tensorflow-1.12.0\n",
            "Successfully installed bleach-1.5.0 html5lib-0.9999999 tensorboard-1.6.0 tensorflow-1.6.0\n"
          ],
          "name": "stdout"
        }
      ]
    },
    {
      "metadata": {
        "id": "F0Yvvyzia3mR",
        "colab_type": "code",
        "outputId": "ecfd778f-5e79-4029-bd2c-3340c207ac40",
        "colab": {
          "base_uri": "https://localhost:8080/",
          "height": 204
        }
      },
      "cell_type": "code",
      "source": [
        "!pip install edward"
      ],
      "execution_count": 0,
      "outputs": [
        {
          "output_type": "stream",
          "text": [
            "Collecting edward\n",
            "\u001b[?25l  Downloading https://files.pythonhosted.org/packages/a3/59/5831fa77a01a7b16d53626966b06e89064b1696166d74e856ef3eefb3119/edward-1.3.5.tar.gz (63kB)\n",
            "\r\u001b[K    16% |█████▏                          | 10kB 17.1MB/s eta 0:00:01\r\u001b[K    32% |██████████▍                     | 20kB 5.2MB/s eta 0:00:01\r\u001b[K    48% |███████████████▋                | 30kB 5.5MB/s eta 0:00:01\r\u001b[K    64% |████████████████████▊           | 40kB 5.5MB/s eta 0:00:01\r\u001b[K    81% |██████████████████████████      | 51kB 6.1MB/s eta 0:00:01\r\u001b[K    97% |███████████████████████████████▏| 61kB 7.1MB/s eta 0:00:01\r\u001b[K    100% |████████████████████████████████| 71kB 6.6MB/s \n",
            "\u001b[?25hRequirement already satisfied: numpy>=1.7 in /usr/local/lib/python3.6/dist-packages (from edward) (1.14.6)\n",
            "Requirement already satisfied: six>=1.10.0 in /usr/local/lib/python3.6/dist-packages (from edward) (1.11.0)\n",
            "Building wheels for collected packages: edward\n",
            "  Running setup.py bdist_wheel for edward ... \u001b[?25l-\b \b\\\b \bdone\n",
            "\u001b[?25h  Stored in directory: /root/.cache/pip/wheels/ae/61/0c/1f36f3f0c629d1b7a24d042d2c37015a66c091729c95dd8425\n",
            "Successfully built edward\n",
            "Installing collected packages: edward\n",
            "Successfully installed edward-1.3.5\n"
          ],
          "name": "stdout"
        }
      ]
    },
    {
      "metadata": {
        "id": "2SLlQYtBoQTu",
        "colab_type": "code",
        "colab": {}
      },
      "cell_type": "code",
      "source": [
        "from google.colab import auth\n",
        "auth.authenticate_user()"
      ],
      "execution_count": 0,
      "outputs": []
    },
    {
      "metadata": {
        "id": "0qKeukvYcbCz",
        "colab_type": "code",
        "outputId": "c71e8418-ee24-454c-9ce6-977c16c77f45",
        "colab": {
          "base_uri": "https://localhost:8080/",
          "height": 272
        }
      },
      "cell_type": "code",
      "source": [
        "# Install a Drive FUSE wrapper.\n",
        "# https://github.com/astrada/google-drive-ocamlfuse\n",
        "!apt-get install -y -qq software-properties-common python-software-properties module-init-tools\n",
        "!add-apt-repository -y ppa:alessandro-strada/ppa 2>&1 > /dev/null\n",
        "!apt-get update -qq 2>&1 > /dev/null\n",
        "!apt-get -y install -qq google-drive-ocamlfuse fuse"
      ],
      "execution_count": 0,
      "outputs": [
        {
          "output_type": "stream",
          "text": [
            "E: Package 'python-software-properties' has no installation candidate\n",
            "Selecting previously unselected package libfuse2:amd64.\n",
            "(Reading database ... 22280 files and directories currently installed.)\n",
            "Preparing to unpack .../libfuse2_2.9.7-1ubuntu1_amd64.deb ...\n",
            "Unpacking libfuse2:amd64 (2.9.7-1ubuntu1) ...\n",
            "Selecting previously unselected package fuse.\n",
            "Preparing to unpack .../fuse_2.9.7-1ubuntu1_amd64.deb ...\n",
            "Unpacking fuse (2.9.7-1ubuntu1) ...\n",
            "Selecting previously unselected package google-drive-ocamlfuse.\n",
            "Preparing to unpack .../google-drive-ocamlfuse_0.7.0-0ubuntu1~ubuntu18.04.1_amd64.deb ...\n",
            "Unpacking google-drive-ocamlfuse (0.7.0-0ubuntu1~ubuntu18.04.1) ...\n",
            "Setting up libfuse2:amd64 (2.9.7-1ubuntu1) ...\n",
            "Processing triggers for libc-bin (2.27-3ubuntu1) ...\n",
            "Setting up fuse (2.9.7-1ubuntu1) ...\n",
            "Setting up google-drive-ocamlfuse (0.7.0-0ubuntu1~ubuntu18.04.1) ...\n"
          ],
          "name": "stdout"
        }
      ]
    },
    {
      "metadata": {
        "id": "wQ1DNxYlb2Gs",
        "colab_type": "code",
        "outputId": "efcfaf4c-e631-4a0e-8a90-36ce678331a7",
        "colab": {
          "base_uri": "https://localhost:8080/",
          "height": 105
        }
      },
      "cell_type": "code",
      "source": [
        "# Generate creds for the Drive FUSE library.\n",
        "from oauth2client.client import GoogleCredentials\n",
        "creds = GoogleCredentials.get_application_default()\n",
        "import getpass\n",
        "!google-drive-ocamlfuse -headless -id={creds.client_id} -secret={creds.client_secret} < /dev/null 2>&1 | grep URL\n",
        "vcode = getpass.getpass()\n",
        "!echo {vcode} | google-drive-ocamlfuse -headless -id={creds.client_id} -secret={creds.client_secret}\n",
        "\n",
        "# Create a directory and mount Google Drive using that directory.\n",
        "!mkdir -p drive\n",
        "!google-drive-ocamlfuse drive"
      ],
      "execution_count": 0,
      "outputs": [
        {
          "output_type": "stream",
          "text": [
            "Please, open the following URL in a web browser: https://accounts.google.com/o/oauth2/auth?client_id=32555940559.apps.googleusercontent.com&redirect_uri=urn%3Aietf%3Awg%3Aoauth%3A2.0%3Aoob&scope=https%3A%2F%2Fwww.googleapis.com%2Fauth%2Fdrive&response_type=code&access_type=offline&approval_prompt=force\n",
            "··········\n",
            "Please, open the following URL in a web browser: https://accounts.google.com/o/oauth2/auth?client_id=32555940559.apps.googleusercontent.com&redirect_uri=urn%3Aietf%3Awg%3Aoauth%3A2.0%3Aoob&scope=https%3A%2F%2Fwww.googleapis.com%2Fauth%2Fdrive&response_type=code&access_type=offline&approval_prompt=force\n",
            "Please enter the verification code: Access token retrieved correctly.\n"
          ],
          "name": "stdout"
        }
      ]
    },
    {
      "metadata": {
        "id": "niMItPvIYBqN",
        "colab_type": "text"
      },
      "cell_type": "markdown",
      "source": [
        "# First Run (raw data, no scaling)"
      ]
    },
    {
      "metadata": {
        "id": "bj0hYgokx_Gq",
        "colab_type": "text"
      },
      "cell_type": "markdown",
      "source": [
        "## Modeling"
      ]
    },
    {
      "metadata": {
        "id": "K2a0AwmbnsnG",
        "colab_type": "text"
      },
      "cell_type": "markdown",
      "source": [
        "We model our raw data without scaling it using a Gaussian mixture model to get a baseline. We take note of the number of training samples $N$ and number of features $D$. "
      ]
    },
    {
      "metadata": {
        "id": "x7KJeq4pYFj1",
        "colab_type": "code",
        "colab": {}
      },
      "cell_type": "code",
      "source": [
        "import edward as ed\n",
        "import pandas as pd\n",
        "import numpy as np\n",
        "import tensorflow as tf"
      ],
      "execution_count": 0,
      "outputs": []
    },
    {
      "metadata": {
        "id": "QMJxLBCkYZ78",
        "colab_type": "code",
        "colab": {}
      },
      "cell_type": "code",
      "source": [
        "csv = pd.read_csv('drive/player_season_stats.csv', index_col = 0)\n",
        "csv = csv[csv.Year>=2011]\n",
        "csv = csv.fillna(csv.mean())\n",
        "count_columns = [col for col in csv.columns if not (('%' in col) or (col in ['PER', 'Age', 'OWS', 'DWS', 'WS', 'WS/48', 'BPM', 'VORP', '3PAr', 'FTr']))]\n",
        "count_csv = csv[count_columns]\n",
        "total_csv = csv.drop_duplicates(subset = ['Year', 'Player'], keep='first')[count_columns]"
      ],
      "execution_count": 0,
      "outputs": []
    },
    {
      "metadata": {
        "id": "hBjY0-VeYcZw",
        "colab_type": "code",
        "colab": {}
      },
      "cell_type": "code",
      "source": [
        "x_train = np.array(total_csv.drop(['Year', 'Player', 'Pos', 'Tm', 'MP'], axis=1))\n",
        "N = x_train.shape[0]\n",
        "D = x_train.shape[1]\n",
        "K = 5"
      ],
      "execution_count": 0,
      "outputs": []
    },
    {
      "metadata": {
        "id": "mFKKypxXp2z2",
        "colab_type": "text"
      },
      "cell_type": "markdown",
      "source": [
        "For a Gaussian mixture model, the likelihood of a data point $x_n$ is \n",
        "> $p(x_n|\\pi, \\mu, \\sigma) = \\sum_{k=1}^K\\pi_k Normal(x_n|\\mu_k, \\sigma_k)$\n",
        "\n",
        "The prior on $\\pi$ is defined as \n",
        "> $p(\\pi) = Dirichlet(\\pi|\\alpha_k)$ \n",
        "\n",
        "where $\\alpha = 1$. Each component's mean's prior is defined as \n",
        "> $p(\\mu_k) = Normal(\\mu_k|0, I)$\n",
        "\n",
        "where the covariance is $I$, or the identity matrix. Lastly, each component's variance's prior is defined as \n",
        ">$p(\\sigma^2_k) = InverseGamma(\\sigma^2_k|a,b)$\n",
        "\n",
        "where $a$ and $b$ are $D$-length vectors of 1s. \n",
        "\n",
        "Then we can define the distribution of the mixture conditional on mixture assignments with a latent variable for the assignments using Edward's ParamMixture class, which takes mixing probabilities, component parameters, and component distributions as inputs. "
      ]
    },
    {
      "metadata": {
        "id": "NdUQQNAaY9uh",
        "colab_type": "code",
        "colab": {}
      },
      "cell_type": "code",
      "source": [
        "from edward.models import Dirichlet, InverseGamma, MultivariateNormalDiag, \\\n",
        "    Normal, ParamMixture, Empirical\n",
        "\n",
        "#tf.reset_default_graph()\n",
        "\n",
        "pi = Dirichlet(tf.ones(K))\n",
        "mu = Normal(tf.zeros(D), tf.ones(D), sample_shape=K)\n",
        "sigmasq = InverseGamma(tf.ones(D), tf.ones(D), sample_shape=K)\n",
        "x = ParamMixture(pi, {'loc': mu, 'scale_diag': tf.sqrt(sigmasq)},\n",
        "                 MultivariateNormalDiag,\n",
        "                 sample_shape=N)\n",
        "z = x.cat"
      ],
      "execution_count": 0,
      "outputs": []
    },
    {
      "metadata": {
        "id": "gMxYZ0XoyC9u",
        "colab_type": "text"
      },
      "cell_type": "markdown",
      "source": [
        "## Inference"
      ]
    },
    {
      "metadata": {
        "id": "r8IQ9CnsvU1P",
        "colab_type": "text"
      },
      "cell_type": "markdown",
      "source": [
        "We use Gibbs sampling to draw from the conditionals of each distribution. We set up empirical random variables to estimate the posterior using the sampling. "
      ]
    },
    {
      "metadata": {
        "id": "PaJsxq3qY_P9",
        "colab_type": "code",
        "outputId": "8488eac8-9b46-4bab-9c91-5760a4eea032",
        "colab": {
          "base_uri": "https://localhost:8080/",
          "height": 965
        }
      },
      "cell_type": "code",
      "source": [
        "T = 500  # number of MCMC samples\n",
        "\n",
        "qpi = Empirical(tf.get_variable(\n",
        "    \"qpi/params\", [T, K],\n",
        "    initializer=tf.constant_initializer(1.0 / K)))\n",
        "qmu = Empirical(tf.get_variable(\n",
        "    \"qmu/params\", [T, K, D],\n",
        "    initializer=tf.zeros_initializer()))\n",
        "qsigmasq = Empirical(tf.get_variable(\n",
        "    \"qsigmasq/params\", [T, K, D],\n",
        "    initializer=tf.ones_initializer()))\n",
        "qz = Empirical(tf.get_variable(\n",
        "    \"qz/params\", [T, N],\n",
        "    initializer=tf.zeros_initializer(),\n",
        "    dtype=tf.int32))"
      ],
      "execution_count": 0,
      "outputs": [
        {
          "output_type": "error",
          "ename": "ValueError",
          "evalue": "ignored",
          "traceback": [
            "\u001b[0;31m---------------------------------------------------------------------------\u001b[0m",
            "\u001b[0;31mValueError\u001b[0m                                Traceback (most recent call last)",
            "\u001b[0;32m<ipython-input-16-7968c8d8a025>\u001b[0m in \u001b[0;36m<module>\u001b[0;34m()\u001b[0m\n\u001b[1;32m      3\u001b[0m qpi = Empirical(tf.get_variable(\n\u001b[1;32m      4\u001b[0m     \u001b[0;34m\"qpi/params\"\u001b[0m\u001b[0;34m,\u001b[0m \u001b[0;34m[\u001b[0m\u001b[0mT\u001b[0m\u001b[0;34m,\u001b[0m \u001b[0mK\u001b[0m\u001b[0;34m]\u001b[0m\u001b[0;34m,\u001b[0m\u001b[0;34m\u001b[0m\u001b[0m\n\u001b[0;32m----> 5\u001b[0;31m     initializer=tf.constant_initializer(1.0 / K)))\n\u001b[0m\u001b[1;32m      6\u001b[0m qmu = Empirical(tf.get_variable(\n\u001b[1;32m      7\u001b[0m     \u001b[0;34m\"qmu/params\"\u001b[0m\u001b[0;34m,\u001b[0m \u001b[0;34m[\u001b[0m\u001b[0mT\u001b[0m\u001b[0;34m,\u001b[0m \u001b[0mK\u001b[0m\u001b[0;34m,\u001b[0m \u001b[0mD\u001b[0m\u001b[0;34m]\u001b[0m\u001b[0;34m,\u001b[0m\u001b[0;34m\u001b[0m\u001b[0m\n",
            "\u001b[0;32m/usr/local/lib/python3.6/dist-packages/tensorflow/python/ops/variable_scope.py\u001b[0m in \u001b[0;36mget_variable\u001b[0;34m(name, shape, dtype, initializer, regularizer, trainable, collections, caching_device, partitioner, validate_shape, use_resource, custom_getter, constraint)\u001b[0m\n\u001b[1;32m   1295\u001b[0m       \u001b[0mpartitioner\u001b[0m\u001b[0;34m=\u001b[0m\u001b[0mpartitioner\u001b[0m\u001b[0;34m,\u001b[0m \u001b[0mvalidate_shape\u001b[0m\u001b[0;34m=\u001b[0m\u001b[0mvalidate_shape\u001b[0m\u001b[0;34m,\u001b[0m\u001b[0;34m\u001b[0m\u001b[0m\n\u001b[1;32m   1296\u001b[0m       \u001b[0muse_resource\u001b[0m\u001b[0;34m=\u001b[0m\u001b[0muse_resource\u001b[0m\u001b[0;34m,\u001b[0m \u001b[0mcustom_getter\u001b[0m\u001b[0;34m=\u001b[0m\u001b[0mcustom_getter\u001b[0m\u001b[0;34m,\u001b[0m\u001b[0;34m\u001b[0m\u001b[0m\n\u001b[0;32m-> 1297\u001b[0;31m       constraint=constraint)\n\u001b[0m\u001b[1;32m   1298\u001b[0m get_variable_or_local_docstring = (\n\u001b[1;32m   1299\u001b[0m     \"\"\"%s\n",
            "\u001b[0;32m/usr/local/lib/python3.6/dist-packages/tensorflow/python/ops/variable_scope.py\u001b[0m in \u001b[0;36mget_variable\u001b[0;34m(self, var_store, name, shape, dtype, initializer, regularizer, reuse, trainable, collections, caching_device, partitioner, validate_shape, use_resource, custom_getter, constraint)\u001b[0m\n\u001b[1;32m   1091\u001b[0m           \u001b[0mpartitioner\u001b[0m\u001b[0;34m=\u001b[0m\u001b[0mpartitioner\u001b[0m\u001b[0;34m,\u001b[0m \u001b[0mvalidate_shape\u001b[0m\u001b[0;34m=\u001b[0m\u001b[0mvalidate_shape\u001b[0m\u001b[0;34m,\u001b[0m\u001b[0;34m\u001b[0m\u001b[0m\n\u001b[1;32m   1092\u001b[0m           \u001b[0muse_resource\u001b[0m\u001b[0;34m=\u001b[0m\u001b[0muse_resource\u001b[0m\u001b[0;34m,\u001b[0m \u001b[0mcustom_getter\u001b[0m\u001b[0;34m=\u001b[0m\u001b[0mcustom_getter\u001b[0m\u001b[0;34m,\u001b[0m\u001b[0;34m\u001b[0m\u001b[0m\n\u001b[0;32m-> 1093\u001b[0;31m           constraint=constraint)\n\u001b[0m\u001b[1;32m   1094\u001b[0m \u001b[0;34m\u001b[0m\u001b[0m\n\u001b[1;32m   1095\u001b[0m   def _get_partitioned_variable(self,\n",
            "\u001b[0;32m/usr/local/lib/python3.6/dist-packages/tensorflow/python/ops/variable_scope.py\u001b[0m in \u001b[0;36mget_variable\u001b[0;34m(self, name, shape, dtype, initializer, regularizer, reuse, trainable, collections, caching_device, partitioner, validate_shape, use_resource, custom_getter, constraint)\u001b[0m\n\u001b[1;32m    437\u001b[0m           \u001b[0mcaching_device\u001b[0m\u001b[0;34m=\u001b[0m\u001b[0mcaching_device\u001b[0m\u001b[0;34m,\u001b[0m \u001b[0mpartitioner\u001b[0m\u001b[0;34m=\u001b[0m\u001b[0mpartitioner\u001b[0m\u001b[0;34m,\u001b[0m\u001b[0;34m\u001b[0m\u001b[0m\n\u001b[1;32m    438\u001b[0m           \u001b[0mvalidate_shape\u001b[0m\u001b[0;34m=\u001b[0m\u001b[0mvalidate_shape\u001b[0m\u001b[0;34m,\u001b[0m \u001b[0muse_resource\u001b[0m\u001b[0;34m=\u001b[0m\u001b[0muse_resource\u001b[0m\u001b[0;34m,\u001b[0m\u001b[0;34m\u001b[0m\u001b[0m\n\u001b[0;32m--> 439\u001b[0;31m           constraint=constraint)\n\u001b[0m\u001b[1;32m    440\u001b[0m \u001b[0;34m\u001b[0m\u001b[0m\n\u001b[1;32m    441\u001b[0m   def _get_partitioned_variable(\n",
            "\u001b[0;32m/usr/local/lib/python3.6/dist-packages/tensorflow/python/ops/variable_scope.py\u001b[0m in \u001b[0;36m_true_getter\u001b[0;34m(name, shape, dtype, initializer, regularizer, reuse, trainable, collections, caching_device, partitioner, validate_shape, use_resource, constraint)\u001b[0m\n\u001b[1;32m    406\u001b[0m           \u001b[0mtrainable\u001b[0m\u001b[0;34m=\u001b[0m\u001b[0mtrainable\u001b[0m\u001b[0;34m,\u001b[0m \u001b[0mcollections\u001b[0m\u001b[0;34m=\u001b[0m\u001b[0mcollections\u001b[0m\u001b[0;34m,\u001b[0m\u001b[0;34m\u001b[0m\u001b[0m\n\u001b[1;32m    407\u001b[0m           \u001b[0mcaching_device\u001b[0m\u001b[0;34m=\u001b[0m\u001b[0mcaching_device\u001b[0m\u001b[0;34m,\u001b[0m \u001b[0mvalidate_shape\u001b[0m\u001b[0;34m=\u001b[0m\u001b[0mvalidate_shape\u001b[0m\u001b[0;34m,\u001b[0m\u001b[0;34m\u001b[0m\u001b[0m\n\u001b[0;32m--> 408\u001b[0;31m           use_resource=use_resource, constraint=constraint)\n\u001b[0m\u001b[1;32m    409\u001b[0m \u001b[0;34m\u001b[0m\u001b[0m\n\u001b[1;32m    410\u001b[0m     \u001b[0;32mif\u001b[0m \u001b[0mcustom_getter\u001b[0m \u001b[0;32mis\u001b[0m \u001b[0;32mnot\u001b[0m \u001b[0;32mNone\u001b[0m\u001b[0;34m:\u001b[0m\u001b[0;34m\u001b[0m\u001b[0m\n",
            "\u001b[0;32m/usr/local/lib/python3.6/dist-packages/tensorflow/python/ops/variable_scope.py\u001b[0m in \u001b[0;36m_get_single_variable\u001b[0;34m(self, name, shape, dtype, initializer, regularizer, partition_info, reuse, trainable, collections, caching_device, validate_shape, use_resource, constraint)\u001b[0m\n\u001b[1;32m    745\u001b[0m                          \u001b[0;34m\"reuse=tf.AUTO_REUSE in VarScope? \"\u001b[0m\u001b[0;34m\u001b[0m\u001b[0m\n\u001b[1;32m    746\u001b[0m                          \"Originally defined at:\\n\\n%s\" % (\n\u001b[0;32m--> 747\u001b[0;31m                              name, \"\".join(traceback.format_list(tb))))\n\u001b[0m\u001b[1;32m    748\u001b[0m       \u001b[0mfound_var\u001b[0m \u001b[0;34m=\u001b[0m \u001b[0mself\u001b[0m\u001b[0;34m.\u001b[0m\u001b[0m_vars\u001b[0m\u001b[0;34m[\u001b[0m\u001b[0mname\u001b[0m\u001b[0;34m]\u001b[0m\u001b[0;34m\u001b[0m\u001b[0m\n\u001b[1;32m    749\u001b[0m       \u001b[0;32mif\u001b[0m \u001b[0;32mnot\u001b[0m \u001b[0mshape\u001b[0m\u001b[0;34m.\u001b[0m\u001b[0mis_compatible_with\u001b[0m\u001b[0;34m(\u001b[0m\u001b[0mfound_var\u001b[0m\u001b[0;34m.\u001b[0m\u001b[0mget_shape\u001b[0m\u001b[0;34m(\u001b[0m\u001b[0;34m)\u001b[0m\u001b[0;34m)\u001b[0m\u001b[0;34m:\u001b[0m\u001b[0;34m\u001b[0m\u001b[0m\n",
            "\u001b[0;31mValueError\u001b[0m: Variable qpi/params already exists, disallowed. Did you mean to set reuse=True or reuse=tf.AUTO_REUSE in VarScope? Originally defined at:\n\n  File \"<ipython-input-12-7968c8d8a025>\", line 5, in <module>\n    initializer=tf.constant_initializer(1.0 / K)))\n  File \"/usr/local/lib/python3.6/dist-packages/IPython/core/interactiveshell.py\", line 2882, in run_code\n    exec(code_obj, self.user_global_ns, self.user_ns)\n  File \"/usr/local/lib/python3.6/dist-packages/IPython/core/interactiveshell.py\", line 2822, in run_ast_nodes\n    if self.run_code(code, result):\n"
          ]
        }
      ]
    },
    {
      "metadata": {
        "id": "_LnzCw6qwhoM",
        "colab_type": "text"
      },
      "cell_type": "markdown",
      "source": [
        "Next we run Gibbs sampling using a training loop. "
      ]
    },
    {
      "metadata": {
        "colab_type": "code",
        "outputId": "ad1ff70d-f4d4-4d96-946c-45d4af966dbb",
        "id": "eZf0jvJ_ZOWC",
        "colab": {
          "base_uri": "https://localhost:8080/",
          "height": 88
        }
      },
      "cell_type": "code",
      "source": [
        "inference = ed.Gibbs({pi: qpi, mu: qmu, sigmasq: qsigmasq, z: qz},\n",
        "                     data={x: x_train})\n",
        "inference.initialize()\n",
        "\n",
        "sess = ed.get_session()\n",
        "tf.global_variables_initializer().run()\n",
        "\n",
        "t_ph = tf.placeholder(tf.int32, [])\n",
        "running_cluster_means = tf.reduce_mean(qmu.params[:t_ph], 0)\n",
        "\n",
        "for _ in range(inference.n_iter):\n",
        "  info_dict = inference.update()\n",
        "  inference.print_progress(info_dict)\n",
        "  t = info_dict['t']\n",
        "  #if t % inference.n_print == 0:\n",
        "  #  print(\"\\nInferred cluster means:\")\n",
        "  #  print(sess.run(running_cluster_means, {t_ph: t - 1}))"
      ],
      "execution_count": 0,
      "outputs": [
        {
          "output_type": "stream",
          "text": [
            "/usr/local/lib/python3.6/dist-packages/edward/util/random_variables.py:52: FutureWarning: Conversion of the second argument of issubdtype from `float` to `np.floating` is deprecated. In future, it will be treated as `np.float64 == np.dtype(float).type`.\n",
            "  not np.issubdtype(value.dtype, np.float) and \\\n"
          ],
          "name": "stderr"
        },
        {
          "output_type": "stream",
          "text": [
            "500/500 [100%] ██████████████████████████████ Elapsed: 206s | Acceptance Rate: 1.000\n"
          ],
          "name": "stdout"
        }
      ]
    },
    {
      "metadata": {
        "id": "je61DFMyyFcz",
        "colab_type": "text"
      },
      "cell_type": "markdown",
      "source": [
        "# Criticism"
      ]
    },
    {
      "metadata": {
        "id": "FJZbKE1vyI4p",
        "colab_type": "text"
      },
      "cell_type": "markdown",
      "source": [
        "We first look at how well-separated the clusters are by using PCA to reduce the dimensionality of the cluster means to 2 and then using a scatterplot. The clusters seem to be fairly well-separated. "
      ]
    },
    {
      "metadata": {
        "colab_type": "code",
        "id": "iZBgInLqZOWX",
        "colab": {}
      },
      "cell_type": "code",
      "source": [
        "cluster_means = sess.run(running_cluster_means, {t_ph: t - 1})"
      ],
      "execution_count": 0,
      "outputs": []
    },
    {
      "metadata": {
        "colab_type": "code",
        "outputId": "a079d546-69e5-4c9d-bf58-94a01c6d443c",
        "id": "5ic9eFw2ZOWm",
        "colab": {
          "base_uri": "https://localhost:8080/",
          "height": 364
        }
      },
      "cell_type": "code",
      "source": [
        "import matplotlib.pyplot as plt\n",
        "from sklearn.decomposition import PCA\n",
        "\n",
        "pca_model = PCA(n_components=2)\n",
        "stats_transformed = pca_model.fit_transform(cluster_means)\n",
        "plt.scatter(stats_transformed[:,0], stats_transformed[:, 1])"
      ],
      "execution_count": 0,
      "outputs": [
        {
          "output_type": "execute_result",
          "data": {
            "text/plain": [
              "<matplotlib.collections.PathCollection at 0x7f13d0ee4128>"
            ]
          },
          "metadata": {
            "tags": []
          },
          "execution_count": 19
        },
        {
          "output_type": "display_data",
          "data": {
            "image/png": "[encoded data removed]",
            "text/plain": [
              "<matplotlib.figure.Figure at 0x7f13d7c28d30>"
            ]
          },
          "metadata": {
            "tags": []
          }
        }
      ]
    },
    {
      "metadata": {
        "id": "Vse7cHnNzsrM",
        "colab_type": "text"
      },
      "cell_type": "markdown",
      "source": [
        "Next we plot the log likelihoods of each data point, reduced to two dimensions using PCA. We assign each data point to a the cluster that yields highest likelihood for that point, and plot that. "
      ]
    },
    {
      "metadata": {
        "colab_type": "code",
        "id": "8y7T-tjXZOWv",
        "colab": {}
      },
      "cell_type": "code",
      "source": [
        "# Calculate likelihood for each data point and cluster assignment,\n",
        "# averaged over many posterior samples. ``x_post`` has shape (N, 100, K, D).\n",
        "mu_sample = qmu.sample(100)\n",
        "sigmasq_sample = qsigmasq.sample(100)\n",
        "x_post = Normal(loc=tf.cast(tf.ones([N, 1, 1, 1]) * mu_sample, tf.float64),\n",
        "                scale=tf.cast(tf.ones([N, 1, 1, 1]) * tf.sqrt(sigmasq_sample), tf.float64))\n",
        "x_broadcasted = tf.tile(tf.reshape(x_train, [N, 1, 1, D]), [1, 100, K, 1])\n",
        "\n",
        "# Sum over latent dimension, then average over posterior samples.\n",
        "# ``log_liks`` ends up with shape (N, K).\n",
        "log_liks = x_post.log_prob(x_broadcasted)\n",
        "log_liks = tf.reduce_sum(log_liks, 3)\n",
        "log_liks = tf.reduce_mean(log_liks, 1)\n",
        "#print(log_liks.shape)\n",
        "#log_liks.eval()[:10]"
      ],
      "execution_count": 0,
      "outputs": []
    },
    {
      "metadata": {
        "colab_type": "code",
        "outputId": "a572a410-4bff-4a7c-d9c3-9e2b0f804c86",
        "id": "jg-IBw6pZOW3",
        "colab": {
          "base_uri": "https://localhost:8080/",
          "height": 364
        }
      },
      "cell_type": "code",
      "source": [
        "log_ll_values = sess.run(log_liks)\n",
        "\n",
        "log_ll_values_2d = PCA(n_components=2).fit_transform(log_ll_values)\n",
        "plt.scatter(log_ll_values_2d[:,0], log_ll_values_2d[:, 1])"
      ],
      "execution_count": 0,
      "outputs": [
        {
          "output_type": "execute_result",
          "data": {
            "text/plain": [
              "<matplotlib.collections.PathCollection at 0x7f13ce27ae48>"
            ]
          },
          "metadata": {
            "tags": []
          },
          "execution_count": 21
        },
        {
          "output_type": "display_data",
          "data": {
            "image/png": "[encoded data removed]",
            "text/plain": [
              "<matplotlib.figure.Figure at 0x7f13ce46b438>"
            ]
          },
          "metadata": {
            "tags": []
          }
        }
      ]
    },
    {
      "metadata": {
        "id": "wjz9V1AqBrsb",
        "colab_type": "code",
        "colab": {}
      },
      "cell_type": "code",
      "source": [
        "max_log_liks = np.max(log_liks.eval(), 1)\n",
        "\n",
        "plt.hist(max_log_liks, bins=20)\n",
        "plt.show()"
      ],
      "execution_count": 0,
      "outputs": []
    },
    {
      "metadata": {
        "id": "reP0sLCF0YW0",
        "colab_type": "text"
      },
      "cell_type": "markdown",
      "source": [
        "We notice the very strange phenomenon of some of the log likelihoods being greater than 0, which should not happen given that the likelihoods themselves should never surpass 1. We spent a while looking into potential reasons for this, but have found nothing that would suggest that our approach was faulty. \n",
        "\n",
        "Next, we count the how many of our training points are in each cluster. "
      ]
    },
    {
      "metadata": {
        "colab_type": "code",
        "outputId": "db5d3cc0-7ab7-440a-f572-b8d59ed2943e",
        "id": "Vr-9SnswZOXC",
        "colab": {
          "base_uri": "https://localhost:8080/",
          "height": 34
        }
      },
      "cell_type": "code",
      "source": [
        "from collections import Counter\n",
        "\n",
        "clusters = tf.argmax(log_liks, 1).eval()\n",
        "\n",
        "counts = Counter(clusters)\n",
        "counts.most_common(5)"
      ],
      "execution_count": 0,
      "outputs": [
        {
          "output_type": "execute_result",
          "data": {
            "text/plain": [
              "[(1, 848), (2, 656), (0, 640), (4, 622), (3, 567)]"
            ]
          },
          "metadata": {
            "tags": []
          },
          "execution_count": 21
        }
      ]
    },
    {
      "metadata": {
        "id": "WoikHUoa03Dg",
        "colab_type": "text"
      },
      "cell_type": "markdown",
      "source": [
        "One thing that we are interested in is whether clustering separates players by position well, so we count players per position per cluster.\n",
        "\n",
        "For each player (except for players that appear only once in our data), we count the proportion of times he is placed into each of the 5 clusters, and plot the max of these proportions per player on a histogram. We do this as a check on how confident the clustering is per player. \n",
        "\n",
        "Lastly we visualize position/cluster counts on a heatmap. "
      ]
    },
    {
      "metadata": {
        "colab_type": "code",
        "outputId": "a6382652-887f-4a18-a535-9ce4c31488d2",
        "id": "F_4jHCyzcUeg",
        "colab": {
          "base_uri": "https://localhost:8080/",
          "height": 476
        }
      },
      "cell_type": "code",
      "source": [
        "positions = total_csv['Pos'].tolist()\n",
        "pos_clusters = pd.DataFrame(list(zip(positions, clusters)), columns=['Pos', 'Cluster'])\n",
        "pos_clusters = pos_clusters[pos_clusters['Pos'].isin(['C', 'PF', 'PG', 'SF', 'SG'])]\n",
        "print(pos_clusters.groupby(['Pos', 'Cluster']).size())\n"
      ],
      "execution_count": 0,
      "outputs": [
        {
          "output_type": "stream",
          "text": [
            "Pos  Cluster\n",
            "C    0          139\n",
            "     1          163\n",
            "     2          151\n",
            "     3           81\n",
            "     4          126\n",
            "PF   0          126\n",
            "     1          183\n",
            "     2          144\n",
            "     3          101\n",
            "     4          117\n",
            "PG   0          104\n",
            "     1          148\n",
            "     2          139\n",
            "     3          121\n",
            "     4          114\n",
            "SF   0          125\n",
            "     1          163\n",
            "     2          102\n",
            "     3          112\n",
            "     4          137\n",
            "SG   0          137\n",
            "     1          177\n",
            "     2          114\n",
            "     3          144\n",
            "     4          117\n",
            "dtype: int64\n"
          ],
          "name": "stdout"
        }
      ]
    },
    {
      "metadata": {
        "id": "6IL9Gz8xqaH3",
        "colab_type": "code",
        "outputId": "ef097ec3-d468-4c5d-ba47-73f735dc0cf3",
        "colab": {
          "base_uri": "https://localhost:8080/",
          "height": 364
        }
      },
      "cell_type": "code",
      "source": [
        "#get dataframe of players and their respective clusters\n",
        "players = total_csv['Player'].tolist()\n",
        "player_clusters = pd.DataFrame(list(zip(players, clusters)), columns=['Player', 'Cluster'])\n",
        "\n",
        "#get rid of players who appear once\n",
        "player_clusters = player_clusters[player_clusters.groupby('Player').Player.transform(len) > 1]\n",
        "\n",
        "#get relative frequency of each player's appearance in each cluster\n",
        "player_clusters = pd.DataFrame(player_clusters.groupby(['Player', 'Cluster']).size())\n",
        "player_clusters = player_clusters.groupby(['Player', 'Cluster']).agg({0: 'sum'})\n",
        "player_clusters = player_clusters.groupby(level=0)\n",
        "player_clusters = pd.DataFrame(player_clusters.apply(lambda x: 100 * x / float(x.sum())))\n",
        "\n",
        "#only keep the max relative frequency per player; this is a decent gauge of how confidently they can be clustered\n",
        "player_clusters = pd.DataFrame(player_clusters.groupby('Player').max())\n",
        "\n",
        "#visualize\n",
        "player_clusters[0].hist()\n"
      ],
      "execution_count": 0,
      "outputs": [
        {
          "output_type": "execute_result",
          "data": {
            "text/plain": [
              "<matplotlib.axes._subplots.AxesSubplot at 0x7f8c7f428128>"
            ]
          },
          "metadata": {
            "tags": []
          },
          "execution_count": 34
        },
        {
          "output_type": "display_data",
          "data": {
            "image/png": "[encoded data removed]",
            "text/plain": [
              "<matplotlib.figure.Figure at 0x7f8c7f437e80>"
            ]
          },
          "metadata": {
            "tags": []
          }
        }
      ]
    },
    {
      "metadata": {
        "colab_type": "code",
        "outputId": "c665f94e-a223-4e03-9c7f-fd56d079706c",
        "id": "EFRuXx1acUev",
        "colab": {
          "base_uri": "https://localhost:8080/",
          "height": 455
        }
      },
      "cell_type": "code",
      "source": [
        "positions = ['C', 'PF', 'PG', 'SF', 'SG']\n",
        "clusters = list(range(5))\n",
        "\n",
        "pos_clusters_data = pos_clusters.groupby(['Pos', 'Cluster']).size().reshape([5, 5])\n",
        "\n",
        "\n",
        "fig, ax = plt.subplots()\n",
        "im = ax.imshow(pos_clusters_data, cmap = 'summer')\n",
        "\n",
        "# We want to show all ticks...\n",
        "ax.set_xticks(np.arange(len(clusters)))\n",
        "ax.set_yticks(np.arange(len(positions)))\n",
        "# ... and label them with the respective list entries\n",
        "ax.set_xticklabels(clusters)\n",
        "ax.set_yticklabels(positions)\n",
        "\n",
        "# Rotate the tick labels and set their alignment.\n",
        "plt.setp(ax.get_xticklabels(), rotation=45, ha=\"right\",\n",
        "         rotation_mode=\"anchor\")\n",
        "\n",
        "# Loop over data dimensions and create text annotations.\n",
        "for i in range(len(positions)):\n",
        "    for j in range(len(clusters)):\n",
        "        text = ax.text(j, i, pos_clusters_data[i, j],\n",
        "                       ha=\"center\", va=\"center\", color=\"black\")\n",
        "\n",
        "ax.set_title(\"Cluster Count by Player Position\")\n",
        "fig.tight_layout()\n",
        "plt.show()"
      ],
      "execution_count": 0,
      "outputs": [
        {
          "output_type": "stream",
          "text": [
            "/usr/local/lib/python3.6/dist-packages/ipykernel_launcher.py:4: FutureWarning: reshape is deprecated and will raise in a subsequent release. Please use .values.reshape(...) instead\n",
            "  after removing the cwd from sys.path.\n"
          ],
          "name": "stderr"
        },
        {
          "output_type": "display_data",
          "data": {
            "image/png": "[encoded data removed]",
            "text/plain": [
              "<matplotlib.figure.Figure at 0x7f13ce4456a0>"
            ]
          },
          "metadata": {
            "tags": []
          }
        }
      ]
    },
    {
      "metadata": {
        "id": "8neE1Q7EBbCL",
        "colab_type": "text"
      },
      "cell_type": "markdown",
      "source": [
        "The clusters don't seem to separate by position too well; it seems that each cluster has about even numbers of players of each position. "
      ]
    },
    {
      "metadata": {
        "id": "Ahssih0IaK1Q",
        "colab_type": "text"
      },
      "cell_type": "markdown",
      "source": [
        "#Second Run (scaling)"
      ]
    },
    {
      "metadata": {
        "id": "CoLOLepDDLvP",
        "colab_type": "text"
      },
      "cell_type": "markdown",
      "source": [
        "We repeat the above, but by using scikit-learn's StandardScaler to normalize the data. "
      ]
    },
    {
      "metadata": {
        "id": "8BSYcLbkDIAT",
        "colab_type": "text"
      },
      "cell_type": "markdown",
      "source": [
        "## Modeling"
      ]
    },
    {
      "metadata": {
        "colab_type": "code",
        "id": "uVEW3rZKaMfY",
        "colab": {}
      },
      "cell_type": "code",
      "source": [
        "import edward as ed\n",
        "import pandas as pd\n",
        "import numpy as np\n",
        "import tensorflow as tf\n",
        "from sklearn.preprocessing import StandardScaler"
      ],
      "execution_count": 0,
      "outputs": []
    },
    {
      "metadata": {
        "colab_type": "code",
        "id": "GrONE1XlaMfm",
        "colab": {}
      },
      "cell_type": "code",
      "source": [
        "csv = pd.read_csv('drive/player_season_stats.csv', index_col = 0)\n",
        "csv = csv[csv.Year>=2011]\n",
        "csv = csv.fillna(csv.mean())\n",
        "count_columns = [col for col in csv.columns if not (('%' in col) or (col in ['PER', 'Age', 'OWS', 'DWS', 'WS', 'WS/48', 'BPM', 'VORP', '3PAr', 'FTr']))]\n",
        "count_csv = csv[count_columns]\n",
        "total_csv = csv.drop_duplicates(subset = ['Year', 'Player'], keep='first')[count_columns]"
      ],
      "execution_count": 0,
      "outputs": []
    },
    {
      "metadata": {
        "colab_type": "code",
        "outputId": "50cafa91-88f0-4596-9529-209d1fd04ed5",
        "id": "RmIVi70zaMfr",
        "colab": {
          "base_uri": "https://localhost:8080/",
          "height": 34
        }
      },
      "cell_type": "code",
      "source": [
        "x_train = total_csv[total_csv['MP']!=0]\n",
        "\n",
        "# Standardizing variance across stats\n",
        "x_train = total_csv.drop(['Year', 'Player', 'Pos', 'Tm', 'MP'], axis=1)\n",
        "scaler = StandardScaler()\n",
        "x_train = scaler.fit_transform(x_train)\n",
        "print(x_train.shape)\n",
        "\n",
        "N = x_train.shape[0]\n",
        "D = x_train.shape[1]\n",
        "K = 5"
      ],
      "execution_count": 0,
      "outputs": [
        {
          "output_type": "stream",
          "text": [
            "(3333, 19)\n"
          ],
          "name": "stdout"
        }
      ]
    },
    {
      "metadata": {
        "colab_type": "code",
        "id": "k9NpivBhaMfy",
        "colab": {}
      },
      "cell_type": "code",
      "source": [
        "from edward.models import Dirichlet, InverseGamma, MultivariateNormalDiag, \\\n",
        "    Normal, ParamMixture, Empirical\n",
        "\n",
        "#tf.reset_default_graph()\n",
        "\n",
        "pi = Dirichlet(tf.ones(K))\n",
        "mu = Normal(tf.zeros(D), tf.ones(D), sample_shape=K)\n",
        "sigmasq = InverseGamma(tf.ones(D), tf.ones(D), sample_shape=K)\n",
        "x = ParamMixture(pi, {'loc': mu, 'scale_diag': tf.sqrt(sigmasq)},\n",
        "                 MultivariateNormalDiag,\n",
        "                 sample_shape=N)\n",
        "z = x.cat"
      ],
      "execution_count": 0,
      "outputs": []
    },
    {
      "metadata": {
        "id": "gzdhKr2xDY5q",
        "colab_type": "text"
      },
      "cell_type": "markdown",
      "source": [
        "## Inference"
      ]
    },
    {
      "metadata": {
        "id": "7gNAX8vJWwrr",
        "colab_type": "text"
      },
      "cell_type": "markdown",
      "source": [
        "As before, we run Gibbs sampling."
      ]
    },
    {
      "metadata": {
        "colab_type": "code",
        "id": "tyZIxxSaaMf6",
        "colab": {}
      },
      "cell_type": "code",
      "source": [
        "T = 500  # number of MCMC samples\n",
        "\n",
        "qpi = Empirical(tf.get_variable(\n",
        "    \"qpi/params\", [T, K],\n",
        "    initializer=tf.constant_initializer(1.0 / K)))\n",
        "qmu = Empirical(tf.get_variable(\n",
        "    \"qmu/params\", [T, K, D],\n",
        "    initializer=tf.zeros_initializer()))\n",
        "qsigmasq = Empirical(tf.get_variable(\n",
        "    \"qsigmasq/params\", [T, K, D],\n",
        "    initializer=tf.ones_initializer()))\n",
        "qz = Empirical(tf.get_variable(\n",
        "    \"qz/params\", [T, N],\n",
        "    initializer=tf.zeros_initializer(),\n",
        "    dtype=tf.int32))"
      ],
      "execution_count": 0,
      "outputs": []
    },
    {
      "metadata": {
        "colab_type": "code",
        "outputId": "1de59fb3-094d-4792-ced2-e4a4266c85a0",
        "id": "VJJWXs_xaMf_",
        "colab": {
          "base_uri": "https://localhost:8080/",
          "height": 88
        }
      },
      "cell_type": "code",
      "source": [
        "inference = ed.Gibbs({pi: qpi, mu: qmu, sigmasq: qsigmasq, z: qz},\n",
        "                     data={x: x_train})\n",
        "inference.initialize()\n",
        "\n",
        "sess = ed.get_session()\n",
        "tf.global_variables_initializer().run()\n",
        "\n",
        "t_ph = tf.placeholder(tf.int32, [])\n",
        "running_cluster_means = tf.reduce_mean(qmu.params[:t_ph], 0)\n",
        "\n",
        "for _ in range(inference.n_iter):\n",
        "  info_dict = inference.update()\n",
        "  inference.print_progress(info_dict)\n",
        "  t = info_dict['t']\n",
        "  #if t % inference.n_print == 0:\n",
        "  #  print(\"\\nInferred cluster means:\")\n",
        "  #  print(sess.run(running_cluster_means, {t_ph: t - 1}))"
      ],
      "execution_count": 0,
      "outputs": [
        {
          "output_type": "stream",
          "text": [
            "/usr/local/lib/python3.6/dist-packages/edward/util/random_variables.py:52: FutureWarning: Conversion of the second argument of issubdtype from `float` to `np.floating` is deprecated. In future, it will be treated as `np.float64 == np.dtype(float).type`.\n",
            "  not np.issubdtype(value.dtype, np.float) and \\\n"
          ],
          "name": "stderr"
        },
        {
          "output_type": "stream",
          "text": [
            "500/500 [100%] ██████████████████████████████ Elapsed: 205s | Acceptance Rate: 1.000\n"
          ],
          "name": "stdout"
        }
      ]
    },
    {
      "metadata": {
        "id": "_uh4JYJcDsDj",
        "colab_type": "text"
      },
      "cell_type": "markdown",
      "source": [
        "## Criticism"
      ]
    },
    {
      "metadata": {
        "id": "fhs8fT4xW3oD",
        "colab_type": "text"
      },
      "cell_type": "markdown",
      "source": [
        "As before, we check how separated the clusters are by first reducing cluster dimensionality to 2. "
      ]
    },
    {
      "metadata": {
        "colab_type": "code",
        "id": "RbGjIpBbaMgG",
        "colab": {}
      },
      "cell_type": "code",
      "source": [
        "cluster_means = sess.run(running_cluster_means, {t_ph: t - 1})"
      ],
      "execution_count": 0,
      "outputs": []
    },
    {
      "metadata": {
        "colab_type": "code",
        "outputId": "5afc725d-1ae7-44bc-816a-fda7de720c40",
        "id": "OD8Jg9mhaMgI",
        "colab": {
          "base_uri": "https://localhost:8080/",
          "height": 364
        }
      },
      "cell_type": "code",
      "source": [
        "import matplotlib.pyplot as plt\n",
        "from sklearn.decomposition import PCA\n",
        "\n",
        "pca_model = PCA(n_components=2)\n",
        "stats_transformed = pca_model.fit_transform(cluster_means)\n",
        "plt.scatter(stats_transformed[:,0], stats_transformed[:, 1])"
      ],
      "execution_count": 0,
      "outputs": [
        {
          "output_type": "execute_result",
          "data": {
            "text/plain": [
              "<matplotlib.collections.PathCollection at 0x7f8cf4b68a20>"
            ]
          },
          "metadata": {
            "tags": []
          },
          "execution_count": 8
        },
        {
          "output_type": "display_data",
          "data": {
            "image/png": "[encoded data removed]",
            "text/plain": [
              "<matplotlib.figure.Figure at 0x7f8cfdf8de48>"
            ]
          },
          "metadata": {
            "tags": []
          }
        }
      ]
    },
    {
      "metadata": {
        "id": "YjECF6cgDvvW",
        "colab_type": "text"
      },
      "cell_type": "markdown",
      "source": [
        "The clusters are well-separated this time as well. We look again at the log likelihoods per data point."
      ]
    },
    {
      "metadata": {
        "colab_type": "code",
        "id": "ig4V4HNgaMgM",
        "colab": {}
      },
      "cell_type": "code",
      "source": [
        "# Calculate likelihood for each data point and cluster assignment,\n",
        "# averaged over many posterior samples. ``x_post`` has shape (N, 100, K, D).\n",
        "mu_sample = qmu.sample(100)\n",
        "sigmasq_sample = qsigmasq.sample(100)\n",
        "x_post = Normal(loc=tf.cast(tf.ones([N, 1, 1, 1]) * mu_sample, tf.float64),\n",
        "                scale=tf.cast(tf.ones([N, 1, 1, 1]) * tf.sqrt(sigmasq_sample), tf.float64))\n",
        "x_broadcasted = tf.tile(tf.reshape(x_train, [N, 1, 1, D]), [1, 100, K, 1])\n",
        "\n",
        "# Sum over latent dimension, then average over posterior samples.\n",
        "# ``log_liks`` ends up with shape (N, K).\n",
        "log_liks = x_post.log_prob(x_broadcasted)\n",
        "log_liks = tf.reduce_sum(log_liks, 3)\n",
        "log_liks = tf.reduce_mean(log_liks, 1)\n",
        "#print(log_liks.shape)\n",
        "#log_liks.eval()[:10]"
      ],
      "execution_count": 0,
      "outputs": []
    },
    {
      "metadata": {
        "colab_type": "code",
        "outputId": "a83b1204-fd1b-4d1e-e2de-a0f380dcd0b9",
        "id": "iNYbroiIaMgP",
        "colab": {
          "base_uri": "https://localhost:8080/",
          "height": 364
        }
      },
      "cell_type": "code",
      "source": [
        "log_ll_values = sess.run(log_liks)\n",
        "\n",
        "log_ll_values_2d = PCA(n_components=2).fit_transform(log_ll_values)\n",
        "plt.scatter(log_ll_values_2d[:,0], log_ll_values_2d[:, 1])"
      ],
      "execution_count": 0,
      "outputs": [
        {
          "output_type": "execute_result",
          "data": {
            "text/plain": [
              "<matplotlib.collections.PathCollection at 0x7f8cf2140f60>"
            ]
          },
          "metadata": {
            "tags": []
          },
          "execution_count": 10
        },
        {
          "output_type": "display_data",
          "data": {
            "image/png": "[encoded data removed]",
            "text/plain": [
              "<matplotlib.figure.Figure at 0x7f8cf9d0ec88>"
            ]
          },
          "metadata": {
            "tags": []
          }
        }
      ]
    },
    {
      "metadata": {
        "colab_type": "code",
        "outputId": "40a29068-8a1a-42f0-dba4-ef55fe970603",
        "id": "-NXNaQZ5aMgY",
        "colab": {
          "base_uri": "https://localhost:8080/",
          "height": 347
        }
      },
      "cell_type": "code",
      "source": [
        "max_log_liks = np.max(log_liks.eval(), 1)\n",
        "\n",
        "plt.hist(max_log_liks, bins=20)\n",
        "plt.show()"
      ],
      "execution_count": 0,
      "outputs": [
        {
          "output_type": "display_data",
          "data": {
            "image/png": "[encoded data removed]",
            "text/plain": [
              "<matplotlib.figure.Figure at 0x7f8cfe19d5c0>"
            ]
          },
          "metadata": {
            "tags": []
          }
        }
      ]
    },
    {
      "metadata": {
        "id": "6okLZw-QEHba",
        "colab_type": "text"
      },
      "cell_type": "markdown",
      "source": [
        "The log-likelihood scatterplot takes a much more interesting shape than before, but we still have the issue of several points having positive log-likelihoods. \n",
        "\n",
        "We count number of points per cluster again to make sure that there is at least some level of spread of data points across clusters. "
      ]
    },
    {
      "metadata": {
        "colab_type": "code",
        "outputId": "9c0f7731-6bcf-4df2-f837-ed9ebba4f09b",
        "id": "cjjjLFlPaMgT",
        "colab": {
          "base_uri": "https://localhost:8080/",
          "height": 34
        }
      },
      "cell_type": "code",
      "source": [
        "from collections import Counter\n",
        "\n",
        "clusters = tf.argmax(log_liks, 1).eval()\n",
        "\n",
        "counts = Counter(clusters)\n",
        "counts.most_common(5)"
      ],
      "execution_count": 0,
      "outputs": [
        {
          "output_type": "execute_result",
          "data": {
            "text/plain": [
              "[(1, 898), (2, 755), (0, 658), (4, 602), (3, 420)]"
            ]
          },
          "metadata": {
            "tags": []
          },
          "execution_count": 11
        }
      ]
    },
    {
      "metadata": {
        "id": "cSVkhL0DYRD5",
        "colab_type": "text"
      },
      "cell_type": "markdown",
      "source": [
        "As before we look at how each cluster separates positions with a heatmap, and look at how well players are clustered with themselves using a histogram. "
      ]
    },
    {
      "metadata": {
        "colab_type": "code",
        "outputId": "c878c444-75c6-4fc8-cb43-36ee1f18d49a",
        "id": "O1eUFzSFaMgk",
        "colab": {
          "base_uri": "https://localhost:8080/",
          "height": 476
        }
      },
      "cell_type": "code",
      "source": [
        "positions = total_csv['Pos'].tolist()\n",
        "pos_clusters = pd.DataFrame(list(zip(positions, clusters)), columns=['Pos', 'Cluster'])\n",
        "pos_clusters = pos_clusters[pos_clusters['Pos'].isin(['C', 'PF', 'PG', 'SF', 'SG'])]\n",
        "print(pos_clusters.groupby(['Pos', 'Cluster']).size())\n"
      ],
      "execution_count": 0,
      "outputs": [
        {
          "output_type": "stream",
          "text": [
            "Pos  Cluster\n",
            "C    0          140\n",
            "     1          169\n",
            "     2          164\n",
            "     3           62\n",
            "     4          125\n",
            "PF   0          126\n",
            "     1          191\n",
            "     2          165\n",
            "     3           72\n",
            "     4          117\n",
            "PG   0          107\n",
            "     1          160\n",
            "     2          166\n",
            "     3           84\n",
            "     4          109\n",
            "SF   0          135\n",
            "     1          177\n",
            "     2          120\n",
            "     3           80\n",
            "     4          127\n",
            "SG   0          141\n",
            "     1          186\n",
            "     2          133\n",
            "     3          116\n",
            "     4          113\n",
            "dtype: int64\n"
          ],
          "name": "stdout"
        }
      ]
    },
    {
      "metadata": {
        "id": "DcndAJV6uq2e",
        "colab_type": "code",
        "colab": {}
      },
      "cell_type": "code",
      "source": [
        "#get dataframe of players and their respective clusters\n",
        "players = total_csv['Player'].tolist()\n",
        "player_clusters = pd.DataFrame(list(zip(players, clusters)), columns=['Player', 'Cluster'])\n",
        "\n",
        "#get rid of players who appear once\n",
        "player_clusters = player_clusters[player_clusters.groupby('Player').Player.transform(len) > 1]\n",
        "\n",
        "#get relative frequency of each player's appearance in each cluster\n",
        "player_clusters = pd.DataFrame(player_clusters.groupby(['Player', 'Cluster']).size())\n",
        "player_clusters = player_clusters.groupby(['Player', 'Cluster']).agg({0: 'sum'})\n",
        "player_clusters = player_clusters.groupby(level=0)\n",
        "player_clusters = pd.DataFrame(player_clusters.apply(lambda x: 100 * x / float(x.sum())))\n",
        "\n",
        "#only keep the max relative frequency per player; this is a decent gauge of how confidently they can be clustered\n",
        "player_clusters = pd.DataFrame(player_clusters.groupby('Player').max())\n",
        "\n",
        "#visualize\n",
        "player_clusters[0].hist()\n"
      ],
      "execution_count": 0,
      "outputs": []
    },
    {
      "metadata": {
        "colab_type": "code",
        "outputId": "416e147c-588b-48ce-bae3-4094a6bcb17d",
        "id": "G8yYKur0aMgx",
        "colab": {
          "base_uri": "https://localhost:8080/",
          "height": 455
        }
      },
      "cell_type": "code",
      "source": [
        "positions = ['C', 'PF', 'PG', 'SF', 'SG']\n",
        "clusters = list(range(5))\n",
        "\n",
        "pos_clusters_data = pos_clusters.groupby(['Pos', 'Cluster']).size().reshape([5, 5])\n",
        "\n",
        "\n",
        "fig, ax = plt.subplots()\n",
        "im = ax.imshow(pos_clusters_data, cmap = 'summer')\n",
        "\n",
        "# We want to show all ticks...\n",
        "ax.set_xticks(np.arange(len(clusters)))\n",
        "ax.set_yticks(np.arange(len(positions)))\n",
        "# ... and label them with the respective list entries\n",
        "ax.set_xticklabels(clusters)\n",
        "ax.set_yticklabels(positions)\n",
        "\n",
        "# Rotate the tick labels and set their alignment.\n",
        "plt.setp(ax.get_xticklabels(), rotation=45, ha=\"right\",\n",
        "         rotation_mode=\"anchor\")\n",
        "\n",
        "# Loop over data dimensions and create text annotations.\n",
        "for i in range(len(positions)):\n",
        "    for j in range(len(clusters)):\n",
        "        text = ax.text(j, i, pos_clusters_data[i, j],\n",
        "                       ha=\"center\", va=\"center\", color=\"black\")\n",
        "\n",
        "ax.set_title(\"Cluster Count by Player Position\")\n",
        "fig.tight_layout()\n",
        "plt.show()"
      ],
      "execution_count": 0,
      "outputs": [
        {
          "output_type": "stream",
          "text": [
            "/usr/local/lib/python3.6/dist-packages/ipykernel_launcher.py:4: FutureWarning: reshape is deprecated and will raise in a subsequent release. Please use .values.reshape(...) instead\n",
            "  after removing the cwd from sys.path.\n"
          ],
          "name": "stderr"
        },
        {
          "output_type": "display_data",
          "data": {
            "image/png": "[encoded data removed]",
            "text/plain": [
              "<matplotlib.figure.Figure at 0x7f8cf4b1f518>"
            ]
          },
          "metadata": {
            "tags": []
          }
        }
      ]
    },
    {
      "metadata": {
        "id": "jj4sYWg9ICNq",
        "colab_type": "text"
      },
      "cell_type": "markdown",
      "source": [
        "With scaled data, cluster 3 does a decent job at picking shooting guards more than other positions, and cluster 1 picks out power forwards and shooting guards better than all other clusters. "
      ]
    },
    {
      "metadata": {
        "id": "PtxMX2aaYUDK",
        "colab_type": "text"
      },
      "cell_type": "markdown",
      "source": [
        "# Third Run (scaling & per-minute stats)"
      ]
    },
    {
      "metadata": {
        "id": "Lgtvvu6KTAN9",
        "colab_type": "text"
      },
      "cell_type": "markdown",
      "source": [
        "## Modeling"
      ]
    },
    {
      "metadata": {
        "id": "lXTw3nMqTBxs",
        "colab_type": "text"
      },
      "cell_type": "markdown",
      "source": [
        "This time, we repeat the analysis but use stats per minute played instead of bulk stats. The data now has signals about player efficiency with respect to time. "
      ]
    },
    {
      "metadata": {
        "id": "kyvpMbaOczzR",
        "colab_type": "code",
        "colab": {}
      },
      "cell_type": "code",
      "source": [
        "import edward as ed\n",
        "import pandas as pd\n",
        "import numpy as np\n",
        "import tensorflow as tf\n",
        "from sklearn.preprocessing import StandardScaler"
      ],
      "execution_count": 0,
      "outputs": []
    },
    {
      "metadata": {
        "id": "dh-7vZW-c1T-",
        "colab_type": "code",
        "colab": {}
      },
      "cell_type": "code",
      "source": [
        "csv = pd.read_csv('drive/player_season_stats.csv', index_col = 0)\n",
        "csv = csv[csv.Year>=2011]\n",
        "csv = csv.fillna(csv.mean())\n",
        "count_columns = [col for col in csv.columns if not (('%' in col) or (col in ['PER', 'Age', 'OWS', 'DWS', 'WS', 'WS/48', 'BPM', 'VORP', '3PAr', 'FTr']))]\n",
        "count_csv = csv[count_columns]\n",
        "total_csv = csv.drop_duplicates(subset = ['Year', 'Player'], keep='first')[count_columns]"
      ],
      "execution_count": 0,
      "outputs": []
    },
    {
      "metadata": {
        "id": "LV5Cqs3PVDw7",
        "colab_type": "text"
      },
      "cell_type": "markdown",
      "source": [
        "Here we divide each player's stats by their total minutes played during the season. "
      ]
    },
    {
      "metadata": {
        "id": "gLhYgX4Gi7HW",
        "colab_type": "code",
        "outputId": "9f1423a1-751e-447d-c56b-060f039ad2e7",
        "colab": {
          "base_uri": "https://localhost:8080/",
          "height": 136
        }
      },
      "cell_type": "code",
      "source": [
        "x_train = total_csv[total_csv['MP']!=0]\n",
        "\n",
        "for i in ['FG', 'FGA', '3P', '3PA', '2P', '2PA', 'FT', 'FTA',\n",
        "       'ORB', 'DRB', 'TRB', 'AST', 'STL', 'BLK', 'TOV', 'PF', 'PTS']:\n",
        "  x_train[i] = x_train[i].values / x_train['MP'].values\n",
        "\n",
        "\n",
        "# Standardizing variance across stats\n",
        "x_train = total_csv.drop(['Year', 'Player', 'Pos', 'Tm', 'MP'], axis=1)\n",
        "scaler = StandardScaler()\n",
        "x_train = scaler.fit_transform(x_train)\n",
        "print(x_train.shape)\n",
        "\n",
        "N = x_train.shape[0]\n",
        "D = x_train.shape[1]\n",
        "K = 5"
      ],
      "execution_count": 0,
      "outputs": [
        {
          "output_type": "stream",
          "text": [
            "/usr/local/lib/python3.6/dist-packages/ipykernel_launcher.py:5: SettingWithCopyWarning: \n",
            "A value is trying to be set on a copy of a slice from a DataFrame.\n",
            "Try using .loc[row_indexer,col_indexer] = value instead\n",
            "\n",
            "See the caveats in the documentation: http://pandas.pydata.org/pandas-docs/stable/indexing.html#indexing-view-versus-copy\n",
            "  \"\"\"\n"
          ],
          "name": "stderr"
        },
        {
          "output_type": "stream",
          "text": [
            "(3333, 19)\n"
          ],
          "name": "stdout"
        }
      ]
    },
    {
      "metadata": {
        "id": "plwXL6GrmYZx",
        "colab_type": "code",
        "colab": {}
      },
      "cell_type": "code",
      "source": [
        "from edward.models import Dirichlet, InverseGamma, MultivariateNormalDiag, \\\n",
        "    Normal, ParamMixture, Empirical\n",
        "\n",
        "#tf.reset_default_graph()\n",
        "\n",
        "pi = Dirichlet(tf.ones(K))\n",
        "mu = Normal(tf.zeros(D), tf.ones(D), sample_shape=K)\n",
        "sigmasq = InverseGamma(tf.ones(D), tf.ones(D), sample_shape=K)\n",
        "x = ParamMixture(pi, {'loc': mu, 'scale_diag': tf.sqrt(sigmasq)},\n",
        "                 MultivariateNormalDiag,\n",
        "                 sample_shape=N)\n",
        "z = x.cat"
      ],
      "execution_count": 0,
      "outputs": []
    },
    {
      "metadata": {
        "id": "2Rpmk0PIVlkC",
        "colab_type": "text"
      },
      "cell_type": "markdown",
      "source": [
        "## Inference"
      ]
    },
    {
      "metadata": {
        "id": "d95V6rB6dBot",
        "colab_type": "text"
      },
      "cell_type": "markdown",
      "source": [
        "We run Gibbs sampling as before. "
      ]
    },
    {
      "metadata": {
        "id": "HmI1N5SYmkD9",
        "colab_type": "code",
        "colab": {}
      },
      "cell_type": "code",
      "source": [
        "T = 500  # number of MCMC samples\n",
        "\n",
        "qpi = Empirical(tf.get_variable(\n",
        "    \"qpi/params\", [T, K],\n",
        "    initializer=tf.constant_initializer(1.0 / K)))\n",
        "qmu = Empirical(tf.get_variable(\n",
        "    \"qmu/params\", [T, K, D],\n",
        "    initializer=tf.zeros_initializer()))\n",
        "qsigmasq = Empirical(tf.get_variable(\n",
        "    \"qsigmasq/params\", [T, K, D],\n",
        "    initializer=tf.ones_initializer()))\n",
        "qz = Empirical(tf.get_variable(\n",
        "    \"qz/params\", [T, N],\n",
        "    initializer=tf.zeros_initializer(),\n",
        "    dtype=tf.int32))"
      ],
      "execution_count": 0,
      "outputs": []
    },
    {
      "metadata": {
        "id": "s9r7d_KKmsIf",
        "colab_type": "code",
        "outputId": "f525aaec-8470-48b5-8d59-d993de9e69d5",
        "colab": {
          "base_uri": "https://localhost:8080/",
          "height": 88
        }
      },
      "cell_type": "code",
      "source": [
        "inference = ed.Gibbs({pi: qpi, mu: qmu, sigmasq: qsigmasq, z: qz},\n",
        "                     data={x: x_train})\n",
        "inference.initialize()\n",
        "\n",
        "sess = ed.get_session()\n",
        "tf.global_variables_initializer().run()\n",
        "\n",
        "t_ph = tf.placeholder(tf.int32, [])\n",
        "running_cluster_means = tf.reduce_mean(qmu.params[:t_ph], 0)\n",
        "\n",
        "for _ in range(inference.n_iter):\n",
        "  info_dict = inference.update()\n",
        "  inference.print_progress(info_dict)\n",
        "  t = info_dict['t']\n",
        "  #if t % inference.n_print == 0:\n",
        "  #  print(\"\\nInferred cluster means:\")\n",
        "  #  print(sess.run(running_cluster_means, {t_ph: t - 1}))"
      ],
      "execution_count": 0,
      "outputs": [
        {
          "output_type": "stream",
          "text": [
            "/usr/local/lib/python3.6/dist-packages/edward/util/random_variables.py:52: FutureWarning: Conversion of the second argument of issubdtype from `float` to `np.floating` is deprecated. In future, it will be treated as `np.float64 == np.dtype(float).type`.\n",
            "  not np.issubdtype(value.dtype, np.float) and \\\n"
          ],
          "name": "stderr"
        },
        {
          "output_type": "stream",
          "text": [
            "500/500 [100%] ██████████████████████████████ Elapsed: 204s | Acceptance Rate: 1.000\n"
          ],
          "name": "stdout"
        }
      ]
    },
    {
      "metadata": {
        "id": "xVuJzfrpWlNz",
        "colab_type": "text"
      },
      "cell_type": "markdown",
      "source": [
        "## Criticism"
      ]
    },
    {
      "metadata": {
        "id": "SCzgNzbSdJIo",
        "colab_type": "text"
      },
      "cell_type": "markdown",
      "source": [
        "We look at the cluster separation as before."
      ]
    },
    {
      "metadata": {
        "id": "pEKMzfSusKtv",
        "colab_type": "code",
        "colab": {}
      },
      "cell_type": "code",
      "source": [
        "cluster_means = sess.run(running_cluster_means, {t_ph: t - 1})"
      ],
      "execution_count": 0,
      "outputs": []
    },
    {
      "metadata": {
        "id": "KMnIipW6swj5",
        "colab_type": "code",
        "outputId": "fd64ff5b-2d70-4eab-a45d-36d856097e94",
        "colab": {
          "base_uri": "https://localhost:8080/",
          "height": 364
        }
      },
      "cell_type": "code",
      "source": [
        "import matplotlib.pyplot as plt\n",
        "from sklearn.decomposition import PCA\n",
        "\n",
        "pca_model = PCA(n_components=2)\n",
        "stats_transformed = pca_model.fit_transform(cluster_means)\n",
        "plt.scatter(stats_transformed[:,0], stats_transformed[:, 1])"
      ],
      "execution_count": 0,
      "outputs": [
        {
          "output_type": "execute_result",
          "data": {
            "text/plain": [
              "<matplotlib.collections.PathCollection at 0x7f0f32c2c3c8>"
            ]
          },
          "metadata": {
            "tags": []
          },
          "execution_count": 10
        },
        {
          "output_type": "display_data",
          "data": {
            "image/png": "[encoded data removed]",
            "text/plain": [
              "<matplotlib.figure.Figure at 0x7f0f3c6c54e0>"
            ]
          },
          "metadata": {
            "tags": []
          }
        }
      ]
    },
    {
      "metadata": {
        "id": "itTKLbT8dYXp",
        "colab_type": "text"
      },
      "cell_type": "markdown",
      "source": [
        "The clusters are, again, well-separated. We repeat the prior analysis for the log-likelihoods of each of our data points."
      ]
    },
    {
      "metadata": {
        "id": "2DWViNUZrQ8F",
        "colab_type": "code",
        "colab": {}
      },
      "cell_type": "code",
      "source": [
        "# Calculate likelihood for each data point and cluster assignment,\n",
        "# averaged over many posterior samples. ``x_post`` has shape (N, 100, K, D).\n",
        "mu_sample = qmu.sample(100)\n",
        "sigmasq_sample = qsigmasq.sample(100)\n",
        "x_post = Normal(loc=tf.cast(tf.ones([N, 1, 1, 1]) * mu_sample, tf.float64),\n",
        "                scale=tf.cast(tf.ones([N, 1, 1, 1]) * tf.sqrt(sigmasq_sample), tf.float64))\n",
        "x_broadcasted = tf.tile(tf.reshape(x_train, [N, 1, 1, D]), [1, 100, K, 1])\n",
        "\n",
        "# Sum over latent dimension, then average over posterior samples.\n",
        "# ``log_liks`` ends up with shape (N, K).\n",
        "log_liks = x_post.log_prob(x_broadcasted)\n",
        "log_liks = tf.reduce_sum(log_liks, 3)\n",
        "log_liks = tf.reduce_mean(log_liks, 1)\n",
        "#print(log_liks.shape)\n",
        "#log_liks.eval()[:10]"
      ],
      "execution_count": 0,
      "outputs": []
    },
    {
      "metadata": {
        "id": "EczROkrxroV2",
        "colab_type": "code",
        "outputId": "a4ba75be-45e0-48b1-eabf-423809698b88",
        "colab": {
          "base_uri": "https://localhost:8080/",
          "height": 364
        }
      },
      "cell_type": "code",
      "source": [
        "log_ll_values = sess.run(log_liks)\n",
        "\n",
        "log_ll_values_2d = PCA(n_components=2).fit_transform(log_ll_values)\n",
        "plt.scatter(log_ll_values_2d[:,0], log_ll_values_2d[:, 1])"
      ],
      "execution_count": 0,
      "outputs": [
        {
          "output_type": "execute_result",
          "data": {
            "text/plain": [
              "<matplotlib.collections.PathCollection at 0x7f0ecd9e80f0>"
            ]
          },
          "metadata": {
            "tags": []
          },
          "execution_count": 12
        },
        {
          "output_type": "display_data",
          "data": {
            "image/png": "[encoded data removed]",
            "text/plain": [
              "<matplotlib.figure.Figure at 0x7f0f3c43a7f0>"
            ]
          },
          "metadata": {
            "tags": []
          }
        }
      ]
    },
    {
      "metadata": {
        "id": "MqfoS5x63M5K",
        "colab_type": "code",
        "outputId": "f461dfc3-997b-439c-af9a-7a47e761d78c",
        "colab": {
          "base_uri": "https://localhost:8080/",
          "height": 347
        }
      },
      "cell_type": "code",
      "source": [
        "max_log_liks = np.max(log_liks.eval(), 1)\n",
        "\n",
        "plt.hist(max_log_liks, bins=20)\n",
        "plt.show()"
      ],
      "execution_count": 0,
      "outputs": [
        {
          "output_type": "display_data",
          "data": {
            "image/png": "[encoded data removed]",
            "text/plain": [
              "<matplotlib.figure.Figure at 0x7f0ecd9cb5f8>"
            ]
          },
          "metadata": {
            "tags": []
          }
        }
      ]
    },
    {
      "metadata": {
        "id": "4868T5ikdzYp",
        "colab_type": "text"
      },
      "cell_type": "markdown",
      "source": [
        "There are still many points for which the log-likelihood exceeds 0. \n",
        "\n",
        "We check membership numbers per cluster again. "
      ]
    },
    {
      "metadata": {
        "id": "m9EVt_LStpIz",
        "colab_type": "code",
        "outputId": "fbd572de-7b7a-40b3-8a4f-fa6be7451448",
        "colab": {
          "base_uri": "https://localhost:8080/",
          "height": 34
        }
      },
      "cell_type": "code",
      "source": [
        "from collections import Counter\n",
        "\n",
        "clusters = tf.argmax(log_liks, 1).eval()\n",
        "\n",
        "counts = Counter(clusters)\n",
        "counts.most_common(5)"
      ],
      "execution_count": 0,
      "outputs": [
        {
          "output_type": "execute_result",
          "data": {
            "text/plain": [
              "[(0, 821), (4, 747), (1, 627), (3, 608), (2, 530)]"
            ]
          },
          "metadata": {
            "tags": []
          },
          "execution_count": 13
        }
      ]
    },
    {
      "metadata": {
        "id": "pAfqVZ-8frDo",
        "colab_type": "text"
      },
      "cell_type": "markdown",
      "source": [
        "Lastly we again look at how each cluster separates positions with a heatmap, and look at how well players are clustered with themselves using a histogram."
      ]
    },
    {
      "metadata": {
        "id": "MHvDTcQZlTWm",
        "colab_type": "code",
        "colab": {}
      },
      "cell_type": "code",
      "source": [
        "positions = total_csv['Pos'].tolist()\n",
        "pos_clusters = pd.DataFrame(list(zip(positions, clusters)), columns=['Pos', 'Cluster'])\n",
        "pos_clusters = pos_clusters[pos_clusters['Pos'].isin(['C', 'PF', 'PG', 'SF', 'SG'])]\n",
        "print(pos_clusters.groupby(['Pos', 'Cluster']).size())"
      ],
      "execution_count": 0,
      "outputs": []
    },
    {
      "metadata": {
        "id": "Rv9lwVsput_C",
        "colab_type": "code",
        "colab": {}
      },
      "cell_type": "code",
      "source": [
        "#get dataframe of players and their respective clusters\n",
        "players = total_csv['Player'].tolist()\n",
        "player_clusters = pd.DataFrame(list(zip(players, clusters)), columns=['Player', 'Cluster'])\n",
        "\n",
        "#get rid of players who appear once\n",
        "player_clusters = player_clusters[player_clusters.groupby('Player').Player.transform(len) > 1]\n",
        "\n",
        "#get relative frequency of each player's appearance in each cluster\n",
        "player_clusters = pd.DataFrame(player_clusters.groupby(['Player', 'Cluster']).size())\n",
        "player_clusters = player_clusters.groupby(['Player', 'Cluster']).agg({0: 'sum'})\n",
        "player_clusters = player_clusters.groupby(level=0)\n",
        "player_clusters = pd.DataFrame(player_clusters.apply(lambda x: 100 * x / float(x.sum())))\n",
        "\n",
        "#only keep the max relative frequency per player; this is a decent gauge of how confidently they can be clustered\n",
        "player_clusters = pd.DataFrame(player_clusters.groupby('Player').max())\n",
        "\n",
        "#visualize\n",
        "player_clusters[0].hist()"
      ],
      "execution_count": 0,
      "outputs": []
    },
    {
      "metadata": {
        "id": "DssUfUAboUw1",
        "colab_type": "code",
        "outputId": "7c453d1a-db21-456b-e3c8-3c9482d1933d",
        "colab": {
          "base_uri": "https://localhost:8080/",
          "height": 455
        }
      },
      "cell_type": "code",
      "source": [
        "positions = ['C', 'PF', 'PG', 'SF', 'SG']\n",
        "clusters = list(range(5))\n",
        "\n",
        "pos_clusters_data = pos_clusters.groupby(['Pos', 'Cluster']).size().reshape([5, 5])\n",
        "\n",
        "\n",
        "fig, ax = plt.subplots()\n",
        "im = ax.imshow(pos_clusters_data, cmap = 'summer')\n",
        "\n",
        "# We want to show all ticks...\n",
        "ax.set_xticks(np.arange(len(clusters)))\n",
        "ax.set_yticks(np.arange(len(positions)))\n",
        "# ... and label them with the respective list entries\n",
        "ax.set_xticklabels(clusters)\n",
        "ax.set_yticklabels(positions)\n",
        "\n",
        "# Rotate the tick labels and set their alignment.\n",
        "plt.setp(ax.get_xticklabels(), rotation=45, ha=\"right\",\n",
        "         rotation_mode=\"anchor\")\n",
        "\n",
        "# Loop over data dimensions and create text annotations.\n",
        "for i in range(len(positions)):\n",
        "    for j in range(len(clusters)):\n",
        "        text = ax.text(j, i, pos_clusters_data[i, j],\n",
        "                       ha=\"center\", va=\"center\", color=\"black\")\n",
        "\n",
        "ax.set_title(\"Cluster Count by Player Position\")\n",
        "fig.tight_layout()\n",
        "plt.show()"
      ],
      "execution_count": 0,
      "outputs": [
        {
          "output_type": "stream",
          "text": [
            "/usr/local/lib/python3.6/dist-packages/ipykernel_launcher.py:4: FutureWarning: reshape is deprecated and will raise in a subsequent release. Please use .values.reshape(...) instead\n",
            "  after removing the cwd from sys.path.\n"
          ],
          "name": "stderr"
        },
        {
          "output_type": "display_data",
          "data": {
            "image/png": "[encoded data removed]",
            "text/plain": [
              "<matplotlib.figure.Figure at 0x7f0f3c43a2e8>"
            ]
          },
          "metadata": {
            "tags": []
          }
        }
      ]
    },
    {
      "metadata": {
        "id": "4OssOUpZlGIE",
        "colab_type": "text"
      },
      "cell_type": "markdown",
      "source": [
        "This time, it looks like cluster 0 does the best in separating out shooting guards among all positions and among all clusters. Cluster 1 has fewest point guards, and cluster 2 has fewest small forwards and shooting guards. "
      ]
    },
    {
      "metadata": {
        "id": "Y84zceO4oL5b",
        "colab_type": "code",
        "colab": {}
      },
      "cell_type": "code",
      "source": [
        ""
      ],
      "execution_count": 0,
      "outputs": []
    },
    {
      "metadata": {
        "id": "Kg2qFDO89d-k",
        "colab_type": "text"
      },
      "cell_type": "markdown",
      "source": [
        " # Poisson"
      ]
    },
    {
      "metadata": {
        "id": "dwqlNpOx9b0D",
        "colab_type": "text"
      },
      "cell_type": "markdown",
      "source": [
        "Restart kernel and start from here for the next iteration of Box's loop"
      ]
    },
    {
      "metadata": {
        "id": "wYf93s7j9hkm",
        "colab_type": "code",
        "colab": {}
      },
      "cell_type": "code",
      "source": [
        "import edward as ed\n",
        "import pandas as pd\n",
        "import numpy as np\n",
        "import tensorflow as tf\n",
        "from sklearn.preprocessing import StandardScaler"
      ],
      "execution_count": 0,
      "outputs": []
    },
    {
      "metadata": {
        "id": "mBBqNgHq9prJ",
        "colab_type": "code",
        "colab": {}
      },
      "cell_type": "code",
      "source": [
        "csv = pd.read_csv('drive/player_season_stats.csv', index_col = 0)\n",
        "csv = csv[csv.Year>=2011]\n",
        "csv = csv.fillna(csv.mean())\n",
        "count_columns = [col for col in csv.columns if not (('%' in col) or (col in ['PER', 'Age', 'OWS', 'DWS', 'WS', 'WS/48', 'BPM', 'VORP', '3PAr', 'FTr']))]\n",
        "count_csv = csv[count_columns]\n",
        "total_csv = csv.drop_duplicates(subset = ['Year', 'Player'], keep='first')[count_columns]"
      ],
      "execution_count": 0,
      "outputs": []
    },
    {
      "metadata": {
        "id": "DEa_RhI19r3Q",
        "colab_type": "code",
        "outputId": "60cdcc36-637b-4fe1-be4c-54670813f54f",
        "colab": {
          "base_uri": "https://localhost:8080/",
          "height": 87
        }
      },
      "cell_type": "code",
      "source": [
        "x_train = total_csv[total_csv['MP']!=0]\n",
        "N = x_train.shape[0]\n",
        "D = x_train.shape[1]\n",
        "K = 5"
      ],
      "execution_count": 0,
      "outputs": [
        {
          "output_type": "execute_result",
          "data": {
            "text/plain": [
              "Index(['Year', 'Player', 'Pos', 'Tm', 'G', 'GS', 'MP', 'FG', 'FGA', '3P',\n",
              "       '3PA', '2P', '2PA', 'FT', 'FTA', 'ORB', 'DRB', 'TRB', 'AST', 'STL',\n",
              "       'BLK', 'TOV', 'PF', 'PTS'],\n",
              "      dtype='object')"
            ]
          },
          "metadata": {
            "tags": []
          },
          "execution_count": 6
        }
      ]
    },
    {
      "metadata": {
        "id": "R15Yy9PG9zF0",
        "colab_type": "code",
        "colab": {}
      },
      "cell_type": "code",
      "source": [
        "#Redefine model here to use Poissons and multivariate normals\n",
        "from edward.models import Dirichlet, InverseGamma, MultivariateNormalDiag, \\\n",
        "    Normal, ParamMixture, Empirical, Poisson, Independent\n",
        "\n",
        "#tf.reset_default_graph()\n",
        "\n",
        "x_pois_data = x_train[['ORB', 'DRB', 'AST', 'STL', 'BLK']]\n",
        "\n",
        "x_norm_data = x_train[['G', 'GS', 'MP', 'FG', 'FGA', '3P',\n",
        "       '3PA', '2P', '2PA', 'FT', 'FTA', 'TOV', 'PF', 'PTS']]\n",
        "\n",
        "d_normal = x_norm_data.shape[1]\n",
        "d_poisson = x_pois_data.shape[1]\n",
        "\n",
        "pi = Dirichlet(tf.ones(K))\n",
        "mu_normal = Normal(tf.zeros(d_normal), tf.ones(d_normal), sample_shape=K)\n",
        "sigmasq_normal = InverseGamma(tf.ones(d_normal), tf.ones(d_normal), sample_shape=K)\n",
        "\n",
        "rate_poisson = InverseGamma(tf.zeros(d_poisson), tf.ones(d_poisson), sample_shape=K)\n",
        "\n",
        "x_normal = ParamMixture(pi, {'loc': mu_normal, 'scale_diag': tf.sqrt(sigmasq_normal)},\n",
        "                        MultivariateNormalDiag,\n",
        "                        sample_shape=N)\n",
        "z = x.cat\n",
        "\n",
        "# Attempt at mixture of MV poissons\n",
        "\n",
        "\n",
        "\n",
        "qpi = Empirical(tf.get_variable(\n",
        "    \"qpi/params\", [T, K],\n",
        "    initializer=tf.constant_initializer(1.0 / K)))\n",
        "qmu = Empirical(tf.get_variable(\n",
        "    \"qmu/params\", [T, K, D],\n",
        "    initializer=tf.zeros_initializer()))\n",
        "qsigmasq = Empirical(tf.get_variable(\n",
        "    \"qsigmasq/params\", [T, K, D],\n",
        "    initializer=tf.ones_initializer()))\n",
        "qz = Empirical(tf.get_variable(\n",
        "    \"qz/params\", [T, N],\n",
        "    initializer=tf.zeros_initializer(),\n",
        "    dtype=tf.int32))"
      ],
      "execution_count": 0,
      "outputs": []
    },
    {
      "metadata": {
        "id": "4a2nJguZrh4c",
        "colab_type": "text"
      },
      "cell_type": "markdown",
      "source": [
        "# References\n",
        "1. [[footballresearch2017](http://www.redalyc.org/pdf/710/71051616004.pdf)] Soto-Valero, César. A Gaussian mixture clustering model for characterizing football players using\n",
        "the EA Sports' FIFA video game system.  Revista Internacional de Ciencias del Deporte, July 2017, Pages 244-259."
      ]
    }
  ]
}